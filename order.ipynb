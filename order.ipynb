{
  "nbformat": 4,
  "nbformat_minor": 0,
  "metadata": {
    "colab": {
      "name": "Untitled39.ipynb",
      "provenance": [],
      "collapsed_sections": []
    },
    "kernelspec": {
      "name": "python3",
      "display_name": "Python 3"
    },
    "language_info": {
      "name": "python"
    }
  },
  "cells": [
    {
      "cell_type": "code",
      "execution_count": 1,
      "metadata": {
        "colab": {
          "base_uri": "https://localhost:8080/"
        },
        "id": "usDEk0aB07RL",
        "outputId": "6066923a-ebf7-49d6-fc8c-27263fd3ea86"
      },
      "outputs": [
        {
          "output_type": "stream",
          "name": "stdout",
          "text": [
            "['은식', '수연', '상일', '희', '은식', '은식', '수연', '상일', '희', '상일', '은식', '희', '수연', '은식', '상일', '수연', '희', '상일', '희', '은식', '수연']\n"
          ]
        },
        {
          "output_type": "execute_result",
          "data": {
            "text/plain": [
              "Counter({'상일': 5, '수연': 5, '은식': 6, '희': 5})"
            ]
          },
          "metadata": {},
          "execution_count": 1
        }
      ],
      "source": [
        "import random\n",
        "from collections import Counter\n",
        "\n",
        "random.seed(220112)\n",
        "\n",
        "names = ['수연', '상일', '희', '은식']\n",
        "orders = ['은식']\n",
        "\n",
        "random.shuffle(names[:2])\n",
        "orders += names\n",
        "\n",
        "while len(orders) < 21:\n",
        "    random.shuffle(names)\n",
        "    orders += names\n",
        "\n",
        "orders = orders[:21]\n",
        "print(orders)\n",
        "\n",
        "Counter(orders)"
      ]
    }
  ]
}