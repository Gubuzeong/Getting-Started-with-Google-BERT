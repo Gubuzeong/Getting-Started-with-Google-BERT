{
  "nbformat": 4,
  "nbformat_minor": 0,
  "metadata": {
    "colab": {
      "name": "3.2.generating-BERT-embedding.ipynb",
      "provenance": [],
      "machine_shape": "hm",
      "collapsed_sections": [],
      "toc_visible": true
    },
    "kernelspec": {
      "name": "python3",
      "display_name": "Python 3"
    },
    "language_info": {
      "name": "python"
    },
    "accelerator": "GPU",
    "widgets": {
      "application/vnd.jupyter.widget-state+json": {
        "a30e2f7b7f0742378a49bb1a4e3c0c24": {
          "model_module": "@jupyter-widgets/controls",
          "model_name": "HBoxModel",
          "model_module_version": "1.5.0",
          "state": {
            "_view_name": "HBoxView",
            "_dom_classes": [],
            "_model_name": "HBoxModel",
            "_view_module": "@jupyter-widgets/controls",
            "_model_module_version": "1.5.0",
            "_view_count": null,
            "_view_module_version": "1.5.0",
            "box_style": "",
            "layout": "IPY_MODEL_48698a49e383479787a69c5637d6e0ca",
            "_model_module": "@jupyter-widgets/controls",
            "children": [
              "IPY_MODEL_c516e979220847a3a02eeb1d55e0cce6",
              "IPY_MODEL_442da47e3dc041958496334f81ca6d9c",
              "IPY_MODEL_c807d4ffb886492c8158b0bb0b548fbb"
            ]
          }
        },
        "48698a49e383479787a69c5637d6e0ca": {
          "model_module": "@jupyter-widgets/base",
          "model_name": "LayoutModel",
          "model_module_version": "1.2.0",
          "state": {
            "_view_name": "LayoutView",
            "grid_template_rows": null,
            "right": null,
            "justify_content": null,
            "_view_module": "@jupyter-widgets/base",
            "overflow": null,
            "_model_module_version": "1.2.0",
            "_view_count": null,
            "flex_flow": null,
            "width": null,
            "min_width": null,
            "border": null,
            "align_items": null,
            "bottom": null,
            "_model_module": "@jupyter-widgets/base",
            "top": null,
            "grid_column": null,
            "overflow_y": null,
            "overflow_x": null,
            "grid_auto_flow": null,
            "grid_area": null,
            "grid_template_columns": null,
            "flex": null,
            "_model_name": "LayoutModel",
            "justify_items": null,
            "grid_row": null,
            "max_height": null,
            "align_content": null,
            "visibility": null,
            "align_self": null,
            "height": null,
            "min_height": null,
            "padding": null,
            "grid_auto_rows": null,
            "grid_gap": null,
            "max_width": null,
            "order": null,
            "_view_module_version": "1.2.0",
            "grid_template_areas": null,
            "object_position": null,
            "object_fit": null,
            "grid_auto_columns": null,
            "margin": null,
            "display": null,
            "left": null
          }
        },
        "c516e979220847a3a02eeb1d55e0cce6": {
          "model_module": "@jupyter-widgets/controls",
          "model_name": "HTMLModel",
          "model_module_version": "1.5.0",
          "state": {
            "_view_name": "HTMLView",
            "style": "IPY_MODEL_d945d1319d7a48f48b116d126ac9d5c2",
            "_dom_classes": [],
            "description": "",
            "_model_name": "HTMLModel",
            "placeholder": "​",
            "_view_module": "@jupyter-widgets/controls",
            "_model_module_version": "1.5.0",
            "value": "Downloading: 100%",
            "_view_count": null,
            "_view_module_version": "1.5.0",
            "description_tooltip": null,
            "_model_module": "@jupyter-widgets/controls",
            "layout": "IPY_MODEL_8f3675cadcdf44f2a9611475e5c45780"
          }
        },
        "442da47e3dc041958496334f81ca6d9c": {
          "model_module": "@jupyter-widgets/controls",
          "model_name": "FloatProgressModel",
          "model_module_version": "1.5.0",
          "state": {
            "_view_name": "ProgressView",
            "style": "IPY_MODEL_2a84afa71e1b49feb8c3ede5641a9602",
            "_dom_classes": [],
            "description": "",
            "_model_name": "FloatProgressModel",
            "bar_style": "success",
            "max": 570,
            "_view_module": "@jupyter-widgets/controls",
            "_model_module_version": "1.5.0",
            "value": 570,
            "_view_count": null,
            "_view_module_version": "1.5.0",
            "orientation": "horizontal",
            "min": 0,
            "description_tooltip": null,
            "_model_module": "@jupyter-widgets/controls",
            "layout": "IPY_MODEL_2589f30f12a9449283cfa54af8c3a9b1"
          }
        },
        "c807d4ffb886492c8158b0bb0b548fbb": {
          "model_module": "@jupyter-widgets/controls",
          "model_name": "HTMLModel",
          "model_module_version": "1.5.0",
          "state": {
            "_view_name": "HTMLView",
            "style": "IPY_MODEL_f0375fa5d0ca4da1835a12c4ac335feb",
            "_dom_classes": [],
            "description": "",
            "_model_name": "HTMLModel",
            "placeholder": "​",
            "_view_module": "@jupyter-widgets/controls",
            "_model_module_version": "1.5.0",
            "value": " 570/570 [00:00&lt;00:00, 20.2kB/s]",
            "_view_count": null,
            "_view_module_version": "1.5.0",
            "description_tooltip": null,
            "_model_module": "@jupyter-widgets/controls",
            "layout": "IPY_MODEL_096594af794a4305bc3b21960ff4b713"
          }
        },
        "d945d1319d7a48f48b116d126ac9d5c2": {
          "model_module": "@jupyter-widgets/controls",
          "model_name": "DescriptionStyleModel",
          "model_module_version": "1.5.0",
          "state": {
            "_view_name": "StyleView",
            "_model_name": "DescriptionStyleModel",
            "description_width": "",
            "_view_module": "@jupyter-widgets/base",
            "_model_module_version": "1.5.0",
            "_view_count": null,
            "_view_module_version": "1.2.0",
            "_model_module": "@jupyter-widgets/controls"
          }
        },
        "8f3675cadcdf44f2a9611475e5c45780": {
          "model_module": "@jupyter-widgets/base",
          "model_name": "LayoutModel",
          "model_module_version": "1.2.0",
          "state": {
            "_view_name": "LayoutView",
            "grid_template_rows": null,
            "right": null,
            "justify_content": null,
            "_view_module": "@jupyter-widgets/base",
            "overflow": null,
            "_model_module_version": "1.2.0",
            "_view_count": null,
            "flex_flow": null,
            "width": null,
            "min_width": null,
            "border": null,
            "align_items": null,
            "bottom": null,
            "_model_module": "@jupyter-widgets/base",
            "top": null,
            "grid_column": null,
            "overflow_y": null,
            "overflow_x": null,
            "grid_auto_flow": null,
            "grid_area": null,
            "grid_template_columns": null,
            "flex": null,
            "_model_name": "LayoutModel",
            "justify_items": null,
            "grid_row": null,
            "max_height": null,
            "align_content": null,
            "visibility": null,
            "align_self": null,
            "height": null,
            "min_height": null,
            "padding": null,
            "grid_auto_rows": null,
            "grid_gap": null,
            "max_width": null,
            "order": null,
            "_view_module_version": "1.2.0",
            "grid_template_areas": null,
            "object_position": null,
            "object_fit": null,
            "grid_auto_columns": null,
            "margin": null,
            "display": null,
            "left": null
          }
        },
        "2a84afa71e1b49feb8c3ede5641a9602": {
          "model_module": "@jupyter-widgets/controls",
          "model_name": "ProgressStyleModel",
          "model_module_version": "1.5.0",
          "state": {
            "_view_name": "StyleView",
            "_model_name": "ProgressStyleModel",
            "description_width": "",
            "_view_module": "@jupyter-widgets/base",
            "_model_module_version": "1.5.0",
            "_view_count": null,
            "_view_module_version": "1.2.0",
            "bar_color": null,
            "_model_module": "@jupyter-widgets/controls"
          }
        },
        "2589f30f12a9449283cfa54af8c3a9b1": {
          "model_module": "@jupyter-widgets/base",
          "model_name": "LayoutModel",
          "model_module_version": "1.2.0",
          "state": {
            "_view_name": "LayoutView",
            "grid_template_rows": null,
            "right": null,
            "justify_content": null,
            "_view_module": "@jupyter-widgets/base",
            "overflow": null,
            "_model_module_version": "1.2.0",
            "_view_count": null,
            "flex_flow": null,
            "width": null,
            "min_width": null,
            "border": null,
            "align_items": null,
            "bottom": null,
            "_model_module": "@jupyter-widgets/base",
            "top": null,
            "grid_column": null,
            "overflow_y": null,
            "overflow_x": null,
            "grid_auto_flow": null,
            "grid_area": null,
            "grid_template_columns": null,
            "flex": null,
            "_model_name": "LayoutModel",
            "justify_items": null,
            "grid_row": null,
            "max_height": null,
            "align_content": null,
            "visibility": null,
            "align_self": null,
            "height": null,
            "min_height": null,
            "padding": null,
            "grid_auto_rows": null,
            "grid_gap": null,
            "max_width": null,
            "order": null,
            "_view_module_version": "1.2.0",
            "grid_template_areas": null,
            "object_position": null,
            "object_fit": null,
            "grid_auto_columns": null,
            "margin": null,
            "display": null,
            "left": null
          }
        },
        "f0375fa5d0ca4da1835a12c4ac335feb": {
          "model_module": "@jupyter-widgets/controls",
          "model_name": "DescriptionStyleModel",
          "model_module_version": "1.5.0",
          "state": {
            "_view_name": "StyleView",
            "_model_name": "DescriptionStyleModel",
            "description_width": "",
            "_view_module": "@jupyter-widgets/base",
            "_model_module_version": "1.5.0",
            "_view_count": null,
            "_view_module_version": "1.2.0",
            "_model_module": "@jupyter-widgets/controls"
          }
        },
        "096594af794a4305bc3b21960ff4b713": {
          "model_module": "@jupyter-widgets/base",
          "model_name": "LayoutModel",
          "model_module_version": "1.2.0",
          "state": {
            "_view_name": "LayoutView",
            "grid_template_rows": null,
            "right": null,
            "justify_content": null,
            "_view_module": "@jupyter-widgets/base",
            "overflow": null,
            "_model_module_version": "1.2.0",
            "_view_count": null,
            "flex_flow": null,
            "width": null,
            "min_width": null,
            "border": null,
            "align_items": null,
            "bottom": null,
            "_model_module": "@jupyter-widgets/base",
            "top": null,
            "grid_column": null,
            "overflow_y": null,
            "overflow_x": null,
            "grid_auto_flow": null,
            "grid_area": null,
            "grid_template_columns": null,
            "flex": null,
            "_model_name": "LayoutModel",
            "justify_items": null,
            "grid_row": null,
            "max_height": null,
            "align_content": null,
            "visibility": null,
            "align_self": null,
            "height": null,
            "min_height": null,
            "padding": null,
            "grid_auto_rows": null,
            "grid_gap": null,
            "max_width": null,
            "order": null,
            "_view_module_version": "1.2.0",
            "grid_template_areas": null,
            "object_position": null,
            "object_fit": null,
            "grid_auto_columns": null,
            "margin": null,
            "display": null,
            "left": null
          }
        },
        "b1fafc4054024f64b65a8d5d6da2d274": {
          "model_module": "@jupyter-widgets/controls",
          "model_name": "HBoxModel",
          "model_module_version": "1.5.0",
          "state": {
            "_view_name": "HBoxView",
            "_dom_classes": [],
            "_model_name": "HBoxModel",
            "_view_module": "@jupyter-widgets/controls",
            "_model_module_version": "1.5.0",
            "_view_count": null,
            "_view_module_version": "1.5.0",
            "box_style": "",
            "layout": "IPY_MODEL_51938c3a4df042ad902bd0b356674f7e",
            "_model_module": "@jupyter-widgets/controls",
            "children": [
              "IPY_MODEL_fdbc135a1566474593c57f2c545cf8e9",
              "IPY_MODEL_debbcca354324eaeb5e56f1208721ef5",
              "IPY_MODEL_2c8705446b0644e5a9d9ba8c1f69b435"
            ]
          }
        },
        "51938c3a4df042ad902bd0b356674f7e": {
          "model_module": "@jupyter-widgets/base",
          "model_name": "LayoutModel",
          "model_module_version": "1.2.0",
          "state": {
            "_view_name": "LayoutView",
            "grid_template_rows": null,
            "right": null,
            "justify_content": null,
            "_view_module": "@jupyter-widgets/base",
            "overflow": null,
            "_model_module_version": "1.2.0",
            "_view_count": null,
            "flex_flow": null,
            "width": null,
            "min_width": null,
            "border": null,
            "align_items": null,
            "bottom": null,
            "_model_module": "@jupyter-widgets/base",
            "top": null,
            "grid_column": null,
            "overflow_y": null,
            "overflow_x": null,
            "grid_auto_flow": null,
            "grid_area": null,
            "grid_template_columns": null,
            "flex": null,
            "_model_name": "LayoutModel",
            "justify_items": null,
            "grid_row": null,
            "max_height": null,
            "align_content": null,
            "visibility": null,
            "align_self": null,
            "height": null,
            "min_height": null,
            "padding": null,
            "grid_auto_rows": null,
            "grid_gap": null,
            "max_width": null,
            "order": null,
            "_view_module_version": "1.2.0",
            "grid_template_areas": null,
            "object_position": null,
            "object_fit": null,
            "grid_auto_columns": null,
            "margin": null,
            "display": null,
            "left": null
          }
        },
        "fdbc135a1566474593c57f2c545cf8e9": {
          "model_module": "@jupyter-widgets/controls",
          "model_name": "HTMLModel",
          "model_module_version": "1.5.0",
          "state": {
            "_view_name": "HTMLView",
            "style": "IPY_MODEL_10996495eba6472592a90110e41d2e41",
            "_dom_classes": [],
            "description": "",
            "_model_name": "HTMLModel",
            "placeholder": "​",
            "_view_module": "@jupyter-widgets/controls",
            "_model_module_version": "1.5.0",
            "value": "Downloading: 100%",
            "_view_count": null,
            "_view_module_version": "1.5.0",
            "description_tooltip": null,
            "_model_module": "@jupyter-widgets/controls",
            "layout": "IPY_MODEL_2696869490b749cebfdf6dc8cce9f4f1"
          }
        },
        "debbcca354324eaeb5e56f1208721ef5": {
          "model_module": "@jupyter-widgets/controls",
          "model_name": "FloatProgressModel",
          "model_module_version": "1.5.0",
          "state": {
            "_view_name": "ProgressView",
            "style": "IPY_MODEL_5d553e9518094b74a01908c784b2749e",
            "_dom_classes": [],
            "description": "",
            "_model_name": "FloatProgressModel",
            "bar_style": "success",
            "max": 440473133,
            "_view_module": "@jupyter-widgets/controls",
            "_model_module_version": "1.5.0",
            "value": 440473133,
            "_view_count": null,
            "_view_module_version": "1.5.0",
            "orientation": "horizontal",
            "min": 0,
            "description_tooltip": null,
            "_model_module": "@jupyter-widgets/controls",
            "layout": "IPY_MODEL_6a30837b8b114268b8ffd570373d255b"
          }
        },
        "2c8705446b0644e5a9d9ba8c1f69b435": {
          "model_module": "@jupyter-widgets/controls",
          "model_name": "HTMLModel",
          "model_module_version": "1.5.0",
          "state": {
            "_view_name": "HTMLView",
            "style": "IPY_MODEL_cda62a650ddc4fc696789faadd2d90e6",
            "_dom_classes": [],
            "description": "",
            "_model_name": "HTMLModel",
            "placeholder": "​",
            "_view_module": "@jupyter-widgets/controls",
            "_model_module_version": "1.5.0",
            "value": " 420M/420M [00:07&lt;00:00, 62.5MB/s]",
            "_view_count": null,
            "_view_module_version": "1.5.0",
            "description_tooltip": null,
            "_model_module": "@jupyter-widgets/controls",
            "layout": "IPY_MODEL_03a93acdab744643b95cbfd810dad451"
          }
        },
        "10996495eba6472592a90110e41d2e41": {
          "model_module": "@jupyter-widgets/controls",
          "model_name": "DescriptionStyleModel",
          "model_module_version": "1.5.0",
          "state": {
            "_view_name": "StyleView",
            "_model_name": "DescriptionStyleModel",
            "description_width": "",
            "_view_module": "@jupyter-widgets/base",
            "_model_module_version": "1.5.0",
            "_view_count": null,
            "_view_module_version": "1.2.0",
            "_model_module": "@jupyter-widgets/controls"
          }
        },
        "2696869490b749cebfdf6dc8cce9f4f1": {
          "model_module": "@jupyter-widgets/base",
          "model_name": "LayoutModel",
          "model_module_version": "1.2.0",
          "state": {
            "_view_name": "LayoutView",
            "grid_template_rows": null,
            "right": null,
            "justify_content": null,
            "_view_module": "@jupyter-widgets/base",
            "overflow": null,
            "_model_module_version": "1.2.0",
            "_view_count": null,
            "flex_flow": null,
            "width": null,
            "min_width": null,
            "border": null,
            "align_items": null,
            "bottom": null,
            "_model_module": "@jupyter-widgets/base",
            "top": null,
            "grid_column": null,
            "overflow_y": null,
            "overflow_x": null,
            "grid_auto_flow": null,
            "grid_area": null,
            "grid_template_columns": null,
            "flex": null,
            "_model_name": "LayoutModel",
            "justify_items": null,
            "grid_row": null,
            "max_height": null,
            "align_content": null,
            "visibility": null,
            "align_self": null,
            "height": null,
            "min_height": null,
            "padding": null,
            "grid_auto_rows": null,
            "grid_gap": null,
            "max_width": null,
            "order": null,
            "_view_module_version": "1.2.0",
            "grid_template_areas": null,
            "object_position": null,
            "object_fit": null,
            "grid_auto_columns": null,
            "margin": null,
            "display": null,
            "left": null
          }
        },
        "5d553e9518094b74a01908c784b2749e": {
          "model_module": "@jupyter-widgets/controls",
          "model_name": "ProgressStyleModel",
          "model_module_version": "1.5.0",
          "state": {
            "_view_name": "StyleView",
            "_model_name": "ProgressStyleModel",
            "description_width": "",
            "_view_module": "@jupyter-widgets/base",
            "_model_module_version": "1.5.0",
            "_view_count": null,
            "_view_module_version": "1.2.0",
            "bar_color": null,
            "_model_module": "@jupyter-widgets/controls"
          }
        },
        "6a30837b8b114268b8ffd570373d255b": {
          "model_module": "@jupyter-widgets/base",
          "model_name": "LayoutModel",
          "model_module_version": "1.2.0",
          "state": {
            "_view_name": "LayoutView",
            "grid_template_rows": null,
            "right": null,
            "justify_content": null,
            "_view_module": "@jupyter-widgets/base",
            "overflow": null,
            "_model_module_version": "1.2.0",
            "_view_count": null,
            "flex_flow": null,
            "width": null,
            "min_width": null,
            "border": null,
            "align_items": null,
            "bottom": null,
            "_model_module": "@jupyter-widgets/base",
            "top": null,
            "grid_column": null,
            "overflow_y": null,
            "overflow_x": null,
            "grid_auto_flow": null,
            "grid_area": null,
            "grid_template_columns": null,
            "flex": null,
            "_model_name": "LayoutModel",
            "justify_items": null,
            "grid_row": null,
            "max_height": null,
            "align_content": null,
            "visibility": null,
            "align_self": null,
            "height": null,
            "min_height": null,
            "padding": null,
            "grid_auto_rows": null,
            "grid_gap": null,
            "max_width": null,
            "order": null,
            "_view_module_version": "1.2.0",
            "grid_template_areas": null,
            "object_position": null,
            "object_fit": null,
            "grid_auto_columns": null,
            "margin": null,
            "display": null,
            "left": null
          }
        },
        "cda62a650ddc4fc696789faadd2d90e6": {
          "model_module": "@jupyter-widgets/controls",
          "model_name": "DescriptionStyleModel",
          "model_module_version": "1.5.0",
          "state": {
            "_view_name": "StyleView",
            "_model_name": "DescriptionStyleModel",
            "description_width": "",
            "_view_module": "@jupyter-widgets/base",
            "_model_module_version": "1.5.0",
            "_view_count": null,
            "_view_module_version": "1.2.0",
            "_model_module": "@jupyter-widgets/controls"
          }
        },
        "03a93acdab744643b95cbfd810dad451": {
          "model_module": "@jupyter-widgets/base",
          "model_name": "LayoutModel",
          "model_module_version": "1.2.0",
          "state": {
            "_view_name": "LayoutView",
            "grid_template_rows": null,
            "right": null,
            "justify_content": null,
            "_view_module": "@jupyter-widgets/base",
            "overflow": null,
            "_model_module_version": "1.2.0",
            "_view_count": null,
            "flex_flow": null,
            "width": null,
            "min_width": null,
            "border": null,
            "align_items": null,
            "bottom": null,
            "_model_module": "@jupyter-widgets/base",
            "top": null,
            "grid_column": null,
            "overflow_y": null,
            "overflow_x": null,
            "grid_auto_flow": null,
            "grid_area": null,
            "grid_template_columns": null,
            "flex": null,
            "_model_name": "LayoutModel",
            "justify_items": null,
            "grid_row": null,
            "max_height": null,
            "align_content": null,
            "visibility": null,
            "align_self": null,
            "height": null,
            "min_height": null,
            "padding": null,
            "grid_auto_rows": null,
            "grid_gap": null,
            "max_width": null,
            "order": null,
            "_view_module_version": "1.2.0",
            "grid_template_areas": null,
            "object_position": null,
            "object_fit": null,
            "grid_auto_columns": null,
            "margin": null,
            "display": null,
            "left": null
          }
        },
        "8f78e1688cac41bf8f0563cf9ba07e78": {
          "model_module": "@jupyter-widgets/controls",
          "model_name": "HBoxModel",
          "model_module_version": "1.5.0",
          "state": {
            "_view_name": "HBoxView",
            "_dom_classes": [],
            "_model_name": "HBoxModel",
            "_view_module": "@jupyter-widgets/controls",
            "_model_module_version": "1.5.0",
            "_view_count": null,
            "_view_module_version": "1.5.0",
            "box_style": "",
            "layout": "IPY_MODEL_b8b3118f987743d99c2594a4496cc9e1",
            "_model_module": "@jupyter-widgets/controls",
            "children": [
              "IPY_MODEL_d298d1c96eaa4c8c89c46ec8710cfd8b",
              "IPY_MODEL_6b21114af9a24a5eb3b8c468cd427765",
              "IPY_MODEL_e301935a34364918bb68ce91bf256d73"
            ]
          }
        },
        "b8b3118f987743d99c2594a4496cc9e1": {
          "model_module": "@jupyter-widgets/base",
          "model_name": "LayoutModel",
          "model_module_version": "1.2.0",
          "state": {
            "_view_name": "LayoutView",
            "grid_template_rows": null,
            "right": null,
            "justify_content": null,
            "_view_module": "@jupyter-widgets/base",
            "overflow": null,
            "_model_module_version": "1.2.0",
            "_view_count": null,
            "flex_flow": null,
            "width": null,
            "min_width": null,
            "border": null,
            "align_items": null,
            "bottom": null,
            "_model_module": "@jupyter-widgets/base",
            "top": null,
            "grid_column": null,
            "overflow_y": null,
            "overflow_x": null,
            "grid_auto_flow": null,
            "grid_area": null,
            "grid_template_columns": null,
            "flex": null,
            "_model_name": "LayoutModel",
            "justify_items": null,
            "grid_row": null,
            "max_height": null,
            "align_content": null,
            "visibility": null,
            "align_self": null,
            "height": null,
            "min_height": null,
            "padding": null,
            "grid_auto_rows": null,
            "grid_gap": null,
            "max_width": null,
            "order": null,
            "_view_module_version": "1.2.0",
            "grid_template_areas": null,
            "object_position": null,
            "object_fit": null,
            "grid_auto_columns": null,
            "margin": null,
            "display": null,
            "left": null
          }
        },
        "d298d1c96eaa4c8c89c46ec8710cfd8b": {
          "model_module": "@jupyter-widgets/controls",
          "model_name": "HTMLModel",
          "model_module_version": "1.5.0",
          "state": {
            "_view_name": "HTMLView",
            "style": "IPY_MODEL_a0857533e01848338b4e1dab932b2b7c",
            "_dom_classes": [],
            "description": "",
            "_model_name": "HTMLModel",
            "placeholder": "​",
            "_view_module": "@jupyter-widgets/controls",
            "_model_module_version": "1.5.0",
            "value": "Downloading: 100%",
            "_view_count": null,
            "_view_module_version": "1.5.0",
            "description_tooltip": null,
            "_model_module": "@jupyter-widgets/controls",
            "layout": "IPY_MODEL_d3b0ec92000146ecafff3dd28ec5715f"
          }
        },
        "6b21114af9a24a5eb3b8c468cd427765": {
          "model_module": "@jupyter-widgets/controls",
          "model_name": "FloatProgressModel",
          "model_module_version": "1.5.0",
          "state": {
            "_view_name": "ProgressView",
            "style": "IPY_MODEL_e61177ffcaa3474ca05163c79c4d21d1",
            "_dom_classes": [],
            "description": "",
            "_model_name": "FloatProgressModel",
            "bar_style": "success",
            "max": 231508,
            "_view_module": "@jupyter-widgets/controls",
            "_model_module_version": "1.5.0",
            "value": 231508,
            "_view_count": null,
            "_view_module_version": "1.5.0",
            "orientation": "horizontal",
            "min": 0,
            "description_tooltip": null,
            "_model_module": "@jupyter-widgets/controls",
            "layout": "IPY_MODEL_f0d74665bb084cb684e10c57aaebcd28"
          }
        },
        "e301935a34364918bb68ce91bf256d73": {
          "model_module": "@jupyter-widgets/controls",
          "model_name": "HTMLModel",
          "model_module_version": "1.5.0",
          "state": {
            "_view_name": "HTMLView",
            "style": "IPY_MODEL_7980a9ae85be4397b1e3e64a97fd64d2",
            "_dom_classes": [],
            "description": "",
            "_model_name": "HTMLModel",
            "placeholder": "​",
            "_view_module": "@jupyter-widgets/controls",
            "_model_module_version": "1.5.0",
            "value": " 226k/226k [00:00&lt;00:00, 834kB/s]",
            "_view_count": null,
            "_view_module_version": "1.5.0",
            "description_tooltip": null,
            "_model_module": "@jupyter-widgets/controls",
            "layout": "IPY_MODEL_26e69661f65745d89bbbe43f37054a63"
          }
        },
        "a0857533e01848338b4e1dab932b2b7c": {
          "model_module": "@jupyter-widgets/controls",
          "model_name": "DescriptionStyleModel",
          "model_module_version": "1.5.0",
          "state": {
            "_view_name": "StyleView",
            "_model_name": "DescriptionStyleModel",
            "description_width": "",
            "_view_module": "@jupyter-widgets/base",
            "_model_module_version": "1.5.0",
            "_view_count": null,
            "_view_module_version": "1.2.0",
            "_model_module": "@jupyter-widgets/controls"
          }
        },
        "d3b0ec92000146ecafff3dd28ec5715f": {
          "model_module": "@jupyter-widgets/base",
          "model_name": "LayoutModel",
          "model_module_version": "1.2.0",
          "state": {
            "_view_name": "LayoutView",
            "grid_template_rows": null,
            "right": null,
            "justify_content": null,
            "_view_module": "@jupyter-widgets/base",
            "overflow": null,
            "_model_module_version": "1.2.0",
            "_view_count": null,
            "flex_flow": null,
            "width": null,
            "min_width": null,
            "border": null,
            "align_items": null,
            "bottom": null,
            "_model_module": "@jupyter-widgets/base",
            "top": null,
            "grid_column": null,
            "overflow_y": null,
            "overflow_x": null,
            "grid_auto_flow": null,
            "grid_area": null,
            "grid_template_columns": null,
            "flex": null,
            "_model_name": "LayoutModel",
            "justify_items": null,
            "grid_row": null,
            "max_height": null,
            "align_content": null,
            "visibility": null,
            "align_self": null,
            "height": null,
            "min_height": null,
            "padding": null,
            "grid_auto_rows": null,
            "grid_gap": null,
            "max_width": null,
            "order": null,
            "_view_module_version": "1.2.0",
            "grid_template_areas": null,
            "object_position": null,
            "object_fit": null,
            "grid_auto_columns": null,
            "margin": null,
            "display": null,
            "left": null
          }
        },
        "e61177ffcaa3474ca05163c79c4d21d1": {
          "model_module": "@jupyter-widgets/controls",
          "model_name": "ProgressStyleModel",
          "model_module_version": "1.5.0",
          "state": {
            "_view_name": "StyleView",
            "_model_name": "ProgressStyleModel",
            "description_width": "",
            "_view_module": "@jupyter-widgets/base",
            "_model_module_version": "1.5.0",
            "_view_count": null,
            "_view_module_version": "1.2.0",
            "bar_color": null,
            "_model_module": "@jupyter-widgets/controls"
          }
        },
        "f0d74665bb084cb684e10c57aaebcd28": {
          "model_module": "@jupyter-widgets/base",
          "model_name": "LayoutModel",
          "model_module_version": "1.2.0",
          "state": {
            "_view_name": "LayoutView",
            "grid_template_rows": null,
            "right": null,
            "justify_content": null,
            "_view_module": "@jupyter-widgets/base",
            "overflow": null,
            "_model_module_version": "1.2.0",
            "_view_count": null,
            "flex_flow": null,
            "width": null,
            "min_width": null,
            "border": null,
            "align_items": null,
            "bottom": null,
            "_model_module": "@jupyter-widgets/base",
            "top": null,
            "grid_column": null,
            "overflow_y": null,
            "overflow_x": null,
            "grid_auto_flow": null,
            "grid_area": null,
            "grid_template_columns": null,
            "flex": null,
            "_model_name": "LayoutModel",
            "justify_items": null,
            "grid_row": null,
            "max_height": null,
            "align_content": null,
            "visibility": null,
            "align_self": null,
            "height": null,
            "min_height": null,
            "padding": null,
            "grid_auto_rows": null,
            "grid_gap": null,
            "max_width": null,
            "order": null,
            "_view_module_version": "1.2.0",
            "grid_template_areas": null,
            "object_position": null,
            "object_fit": null,
            "grid_auto_columns": null,
            "margin": null,
            "display": null,
            "left": null
          }
        },
        "7980a9ae85be4397b1e3e64a97fd64d2": {
          "model_module": "@jupyter-widgets/controls",
          "model_name": "DescriptionStyleModel",
          "model_module_version": "1.5.0",
          "state": {
            "_view_name": "StyleView",
            "_model_name": "DescriptionStyleModel",
            "description_width": "",
            "_view_module": "@jupyter-widgets/base",
            "_model_module_version": "1.5.0",
            "_view_count": null,
            "_view_module_version": "1.2.0",
            "_model_module": "@jupyter-widgets/controls"
          }
        },
        "26e69661f65745d89bbbe43f37054a63": {
          "model_module": "@jupyter-widgets/base",
          "model_name": "LayoutModel",
          "model_module_version": "1.2.0",
          "state": {
            "_view_name": "LayoutView",
            "grid_template_rows": null,
            "right": null,
            "justify_content": null,
            "_view_module": "@jupyter-widgets/base",
            "overflow": null,
            "_model_module_version": "1.2.0",
            "_view_count": null,
            "flex_flow": null,
            "width": null,
            "min_width": null,
            "border": null,
            "align_items": null,
            "bottom": null,
            "_model_module": "@jupyter-widgets/base",
            "top": null,
            "grid_column": null,
            "overflow_y": null,
            "overflow_x": null,
            "grid_auto_flow": null,
            "grid_area": null,
            "grid_template_columns": null,
            "flex": null,
            "_model_name": "LayoutModel",
            "justify_items": null,
            "grid_row": null,
            "max_height": null,
            "align_content": null,
            "visibility": null,
            "align_self": null,
            "height": null,
            "min_height": null,
            "padding": null,
            "grid_auto_rows": null,
            "grid_gap": null,
            "max_width": null,
            "order": null,
            "_view_module_version": "1.2.0",
            "grid_template_areas": null,
            "object_position": null,
            "object_fit": null,
            "grid_auto_columns": null,
            "margin": null,
            "display": null,
            "left": null
          }
        },
        "e4518f20fc2d4b18a257df3996fff328": {
          "model_module": "@jupyter-widgets/controls",
          "model_name": "HBoxModel",
          "model_module_version": "1.5.0",
          "state": {
            "_view_name": "HBoxView",
            "_dom_classes": [],
            "_model_name": "HBoxModel",
            "_view_module": "@jupyter-widgets/controls",
            "_model_module_version": "1.5.0",
            "_view_count": null,
            "_view_module_version": "1.5.0",
            "box_style": "",
            "layout": "IPY_MODEL_3f5e664888a54505a0b912541104805e",
            "_model_module": "@jupyter-widgets/controls",
            "children": [
              "IPY_MODEL_5d4d4408670d40fcb06448eb3a07f5df",
              "IPY_MODEL_83ad8f6251f94b58816bca7e9dc2d1db",
              "IPY_MODEL_01bc33bd632d4abea69ec5ffb4767900"
            ]
          }
        },
        "3f5e664888a54505a0b912541104805e": {
          "model_module": "@jupyter-widgets/base",
          "model_name": "LayoutModel",
          "model_module_version": "1.2.0",
          "state": {
            "_view_name": "LayoutView",
            "grid_template_rows": null,
            "right": null,
            "justify_content": null,
            "_view_module": "@jupyter-widgets/base",
            "overflow": null,
            "_model_module_version": "1.2.0",
            "_view_count": null,
            "flex_flow": null,
            "width": null,
            "min_width": null,
            "border": null,
            "align_items": null,
            "bottom": null,
            "_model_module": "@jupyter-widgets/base",
            "top": null,
            "grid_column": null,
            "overflow_y": null,
            "overflow_x": null,
            "grid_auto_flow": null,
            "grid_area": null,
            "grid_template_columns": null,
            "flex": null,
            "_model_name": "LayoutModel",
            "justify_items": null,
            "grid_row": null,
            "max_height": null,
            "align_content": null,
            "visibility": null,
            "align_self": null,
            "height": null,
            "min_height": null,
            "padding": null,
            "grid_auto_rows": null,
            "grid_gap": null,
            "max_width": null,
            "order": null,
            "_view_module_version": "1.2.0",
            "grid_template_areas": null,
            "object_position": null,
            "object_fit": null,
            "grid_auto_columns": null,
            "margin": null,
            "display": null,
            "left": null
          }
        },
        "5d4d4408670d40fcb06448eb3a07f5df": {
          "model_module": "@jupyter-widgets/controls",
          "model_name": "HTMLModel",
          "model_module_version": "1.5.0",
          "state": {
            "_view_name": "HTMLView",
            "style": "IPY_MODEL_e8ecc3b0691f41f582b9dcd38d863b14",
            "_dom_classes": [],
            "description": "",
            "_model_name": "HTMLModel",
            "placeholder": "​",
            "_view_module": "@jupyter-widgets/controls",
            "_model_module_version": "1.5.0",
            "value": "Downloading: 100%",
            "_view_count": null,
            "_view_module_version": "1.5.0",
            "description_tooltip": null,
            "_model_module": "@jupyter-widgets/controls",
            "layout": "IPY_MODEL_2d6cde3fbf1f4587b869e0744b28480d"
          }
        },
        "83ad8f6251f94b58816bca7e9dc2d1db": {
          "model_module": "@jupyter-widgets/controls",
          "model_name": "FloatProgressModel",
          "model_module_version": "1.5.0",
          "state": {
            "_view_name": "ProgressView",
            "style": "IPY_MODEL_0adb891e4d65400bbb13808b1ffc5cf0",
            "_dom_classes": [],
            "description": "",
            "_model_name": "FloatProgressModel",
            "bar_style": "success",
            "max": 28,
            "_view_module": "@jupyter-widgets/controls",
            "_model_module_version": "1.5.0",
            "value": 28,
            "_view_count": null,
            "_view_module_version": "1.5.0",
            "orientation": "horizontal",
            "min": 0,
            "description_tooltip": null,
            "_model_module": "@jupyter-widgets/controls",
            "layout": "IPY_MODEL_3ce183b92bbb4ad68c9d370a6c6c8570"
          }
        },
        "01bc33bd632d4abea69ec5ffb4767900": {
          "model_module": "@jupyter-widgets/controls",
          "model_name": "HTMLModel",
          "model_module_version": "1.5.0",
          "state": {
            "_view_name": "HTMLView",
            "style": "IPY_MODEL_0c2b93daa4b1412faf371146e1fd300b",
            "_dom_classes": [],
            "description": "",
            "_model_name": "HTMLModel",
            "placeholder": "​",
            "_view_module": "@jupyter-widgets/controls",
            "_model_module_version": "1.5.0",
            "value": " 28.0/28.0 [00:00&lt;00:00, 1.17kB/s]",
            "_view_count": null,
            "_view_module_version": "1.5.0",
            "description_tooltip": null,
            "_model_module": "@jupyter-widgets/controls",
            "layout": "IPY_MODEL_9781ed19c094490ab8249cbe14dbf368"
          }
        },
        "e8ecc3b0691f41f582b9dcd38d863b14": {
          "model_module": "@jupyter-widgets/controls",
          "model_name": "DescriptionStyleModel",
          "model_module_version": "1.5.0",
          "state": {
            "_view_name": "StyleView",
            "_model_name": "DescriptionStyleModel",
            "description_width": "",
            "_view_module": "@jupyter-widgets/base",
            "_model_module_version": "1.5.0",
            "_view_count": null,
            "_view_module_version": "1.2.0",
            "_model_module": "@jupyter-widgets/controls"
          }
        },
        "2d6cde3fbf1f4587b869e0744b28480d": {
          "model_module": "@jupyter-widgets/base",
          "model_name": "LayoutModel",
          "model_module_version": "1.2.0",
          "state": {
            "_view_name": "LayoutView",
            "grid_template_rows": null,
            "right": null,
            "justify_content": null,
            "_view_module": "@jupyter-widgets/base",
            "overflow": null,
            "_model_module_version": "1.2.0",
            "_view_count": null,
            "flex_flow": null,
            "width": null,
            "min_width": null,
            "border": null,
            "align_items": null,
            "bottom": null,
            "_model_module": "@jupyter-widgets/base",
            "top": null,
            "grid_column": null,
            "overflow_y": null,
            "overflow_x": null,
            "grid_auto_flow": null,
            "grid_area": null,
            "grid_template_columns": null,
            "flex": null,
            "_model_name": "LayoutModel",
            "justify_items": null,
            "grid_row": null,
            "max_height": null,
            "align_content": null,
            "visibility": null,
            "align_self": null,
            "height": null,
            "min_height": null,
            "padding": null,
            "grid_auto_rows": null,
            "grid_gap": null,
            "max_width": null,
            "order": null,
            "_view_module_version": "1.2.0",
            "grid_template_areas": null,
            "object_position": null,
            "object_fit": null,
            "grid_auto_columns": null,
            "margin": null,
            "display": null,
            "left": null
          }
        },
        "0adb891e4d65400bbb13808b1ffc5cf0": {
          "model_module": "@jupyter-widgets/controls",
          "model_name": "ProgressStyleModel",
          "model_module_version": "1.5.0",
          "state": {
            "_view_name": "StyleView",
            "_model_name": "ProgressStyleModel",
            "description_width": "",
            "_view_module": "@jupyter-widgets/base",
            "_model_module_version": "1.5.0",
            "_view_count": null,
            "_view_module_version": "1.2.0",
            "bar_color": null,
            "_model_module": "@jupyter-widgets/controls"
          }
        },
        "3ce183b92bbb4ad68c9d370a6c6c8570": {
          "model_module": "@jupyter-widgets/base",
          "model_name": "LayoutModel",
          "model_module_version": "1.2.0",
          "state": {
            "_view_name": "LayoutView",
            "grid_template_rows": null,
            "right": null,
            "justify_content": null,
            "_view_module": "@jupyter-widgets/base",
            "overflow": null,
            "_model_module_version": "1.2.0",
            "_view_count": null,
            "flex_flow": null,
            "width": null,
            "min_width": null,
            "border": null,
            "align_items": null,
            "bottom": null,
            "_model_module": "@jupyter-widgets/base",
            "top": null,
            "grid_column": null,
            "overflow_y": null,
            "overflow_x": null,
            "grid_auto_flow": null,
            "grid_area": null,
            "grid_template_columns": null,
            "flex": null,
            "_model_name": "LayoutModel",
            "justify_items": null,
            "grid_row": null,
            "max_height": null,
            "align_content": null,
            "visibility": null,
            "align_self": null,
            "height": null,
            "min_height": null,
            "padding": null,
            "grid_auto_rows": null,
            "grid_gap": null,
            "max_width": null,
            "order": null,
            "_view_module_version": "1.2.0",
            "grid_template_areas": null,
            "object_position": null,
            "object_fit": null,
            "grid_auto_columns": null,
            "margin": null,
            "display": null,
            "left": null
          }
        },
        "0c2b93daa4b1412faf371146e1fd300b": {
          "model_module": "@jupyter-widgets/controls",
          "model_name": "DescriptionStyleModel",
          "model_module_version": "1.5.0",
          "state": {
            "_view_name": "StyleView",
            "_model_name": "DescriptionStyleModel",
            "description_width": "",
            "_view_module": "@jupyter-widgets/base",
            "_model_module_version": "1.5.0",
            "_view_count": null,
            "_view_module_version": "1.2.0",
            "_model_module": "@jupyter-widgets/controls"
          }
        },
        "9781ed19c094490ab8249cbe14dbf368": {
          "model_module": "@jupyter-widgets/base",
          "model_name": "LayoutModel",
          "model_module_version": "1.2.0",
          "state": {
            "_view_name": "LayoutView",
            "grid_template_rows": null,
            "right": null,
            "justify_content": null,
            "_view_module": "@jupyter-widgets/base",
            "overflow": null,
            "_model_module_version": "1.2.0",
            "_view_count": null,
            "flex_flow": null,
            "width": null,
            "min_width": null,
            "border": null,
            "align_items": null,
            "bottom": null,
            "_model_module": "@jupyter-widgets/base",
            "top": null,
            "grid_column": null,
            "overflow_y": null,
            "overflow_x": null,
            "grid_auto_flow": null,
            "grid_area": null,
            "grid_template_columns": null,
            "flex": null,
            "_model_name": "LayoutModel",
            "justify_items": null,
            "grid_row": null,
            "max_height": null,
            "align_content": null,
            "visibility": null,
            "align_self": null,
            "height": null,
            "min_height": null,
            "padding": null,
            "grid_auto_rows": null,
            "grid_gap": null,
            "max_width": null,
            "order": null,
            "_view_module_version": "1.2.0",
            "grid_template_areas": null,
            "object_position": null,
            "object_fit": null,
            "grid_auto_columns": null,
            "margin": null,
            "display": null,
            "left": null
          }
        },
        "3d32dbe6f93d461db763428085cf338a": {
          "model_module": "@jupyter-widgets/controls",
          "model_name": "HBoxModel",
          "model_module_version": "1.5.0",
          "state": {
            "_view_name": "HBoxView",
            "_dom_classes": [],
            "_model_name": "HBoxModel",
            "_view_module": "@jupyter-widgets/controls",
            "_model_module_version": "1.5.0",
            "_view_count": null,
            "_view_module_version": "1.5.0",
            "box_style": "",
            "layout": "IPY_MODEL_68a69492431f438aa18bd6233bf1629b",
            "_model_module": "@jupyter-widgets/controls",
            "children": [
              "IPY_MODEL_e9aa9cc33290474d819e95ebc68e6cb5",
              "IPY_MODEL_0cb4e8af085e4c8b8c919bdfc77903e5",
              "IPY_MODEL_ef812dca71c74b5ea021cdf54c1021c3"
            ]
          }
        },
        "68a69492431f438aa18bd6233bf1629b": {
          "model_module": "@jupyter-widgets/base",
          "model_name": "LayoutModel",
          "model_module_version": "1.2.0",
          "state": {
            "_view_name": "LayoutView",
            "grid_template_rows": null,
            "right": null,
            "justify_content": null,
            "_view_module": "@jupyter-widgets/base",
            "overflow": null,
            "_model_module_version": "1.2.0",
            "_view_count": null,
            "flex_flow": null,
            "width": null,
            "min_width": null,
            "border": null,
            "align_items": null,
            "bottom": null,
            "_model_module": "@jupyter-widgets/base",
            "top": null,
            "grid_column": null,
            "overflow_y": null,
            "overflow_x": null,
            "grid_auto_flow": null,
            "grid_area": null,
            "grid_template_columns": null,
            "flex": null,
            "_model_name": "LayoutModel",
            "justify_items": null,
            "grid_row": null,
            "max_height": null,
            "align_content": null,
            "visibility": null,
            "align_self": null,
            "height": null,
            "min_height": null,
            "padding": null,
            "grid_auto_rows": null,
            "grid_gap": null,
            "max_width": null,
            "order": null,
            "_view_module_version": "1.2.0",
            "grid_template_areas": null,
            "object_position": null,
            "object_fit": null,
            "grid_auto_columns": null,
            "margin": null,
            "display": null,
            "left": null
          }
        },
        "e9aa9cc33290474d819e95ebc68e6cb5": {
          "model_module": "@jupyter-widgets/controls",
          "model_name": "HTMLModel",
          "model_module_version": "1.5.0",
          "state": {
            "_view_name": "HTMLView",
            "style": "IPY_MODEL_02bcaf75c9ab4813b88f68a011bba50e",
            "_dom_classes": [],
            "description": "",
            "_model_name": "HTMLModel",
            "placeholder": "​",
            "_view_module": "@jupyter-widgets/controls",
            "_model_module_version": "1.5.0",
            "value": "Downloading: 100%",
            "_view_count": null,
            "_view_module_version": "1.5.0",
            "description_tooltip": null,
            "_model_module": "@jupyter-widgets/controls",
            "layout": "IPY_MODEL_cfd703a90ba344368bb76720700e64b9"
          }
        },
        "0cb4e8af085e4c8b8c919bdfc77903e5": {
          "model_module": "@jupyter-widgets/controls",
          "model_name": "FloatProgressModel",
          "model_module_version": "1.5.0",
          "state": {
            "_view_name": "ProgressView",
            "style": "IPY_MODEL_9319766154d64415972874c1240297f5",
            "_dom_classes": [],
            "description": "",
            "_model_name": "FloatProgressModel",
            "bar_style": "success",
            "max": 466062,
            "_view_module": "@jupyter-widgets/controls",
            "_model_module_version": "1.5.0",
            "value": 466062,
            "_view_count": null,
            "_view_module_version": "1.5.0",
            "orientation": "horizontal",
            "min": 0,
            "description_tooltip": null,
            "_model_module": "@jupyter-widgets/controls",
            "layout": "IPY_MODEL_d901850338e34920acd48a348a5f4677"
          }
        },
        "ef812dca71c74b5ea021cdf54c1021c3": {
          "model_module": "@jupyter-widgets/controls",
          "model_name": "HTMLModel",
          "model_module_version": "1.5.0",
          "state": {
            "_view_name": "HTMLView",
            "style": "IPY_MODEL_8fb0c3db700e42b48bf58fbcdf6a37ed",
            "_dom_classes": [],
            "description": "",
            "_model_name": "HTMLModel",
            "placeholder": "​",
            "_view_module": "@jupyter-widgets/controls",
            "_model_module_version": "1.5.0",
            "value": " 455k/455k [00:00&lt;00:00, 938kB/s]",
            "_view_count": null,
            "_view_module_version": "1.5.0",
            "description_tooltip": null,
            "_model_module": "@jupyter-widgets/controls",
            "layout": "IPY_MODEL_87d02b0409254364a918012f7d5c5395"
          }
        },
        "02bcaf75c9ab4813b88f68a011bba50e": {
          "model_module": "@jupyter-widgets/controls",
          "model_name": "DescriptionStyleModel",
          "model_module_version": "1.5.0",
          "state": {
            "_view_name": "StyleView",
            "_model_name": "DescriptionStyleModel",
            "description_width": "",
            "_view_module": "@jupyter-widgets/base",
            "_model_module_version": "1.5.0",
            "_view_count": null,
            "_view_module_version": "1.2.0",
            "_model_module": "@jupyter-widgets/controls"
          }
        },
        "cfd703a90ba344368bb76720700e64b9": {
          "model_module": "@jupyter-widgets/base",
          "model_name": "LayoutModel",
          "model_module_version": "1.2.0",
          "state": {
            "_view_name": "LayoutView",
            "grid_template_rows": null,
            "right": null,
            "justify_content": null,
            "_view_module": "@jupyter-widgets/base",
            "overflow": null,
            "_model_module_version": "1.2.0",
            "_view_count": null,
            "flex_flow": null,
            "width": null,
            "min_width": null,
            "border": null,
            "align_items": null,
            "bottom": null,
            "_model_module": "@jupyter-widgets/base",
            "top": null,
            "grid_column": null,
            "overflow_y": null,
            "overflow_x": null,
            "grid_auto_flow": null,
            "grid_area": null,
            "grid_template_columns": null,
            "flex": null,
            "_model_name": "LayoutModel",
            "justify_items": null,
            "grid_row": null,
            "max_height": null,
            "align_content": null,
            "visibility": null,
            "align_self": null,
            "height": null,
            "min_height": null,
            "padding": null,
            "grid_auto_rows": null,
            "grid_gap": null,
            "max_width": null,
            "order": null,
            "_view_module_version": "1.2.0",
            "grid_template_areas": null,
            "object_position": null,
            "object_fit": null,
            "grid_auto_columns": null,
            "margin": null,
            "display": null,
            "left": null
          }
        },
        "9319766154d64415972874c1240297f5": {
          "model_module": "@jupyter-widgets/controls",
          "model_name": "ProgressStyleModel",
          "model_module_version": "1.5.0",
          "state": {
            "_view_name": "StyleView",
            "_model_name": "ProgressStyleModel",
            "description_width": "",
            "_view_module": "@jupyter-widgets/base",
            "_model_module_version": "1.5.0",
            "_view_count": null,
            "_view_module_version": "1.2.0",
            "bar_color": null,
            "_model_module": "@jupyter-widgets/controls"
          }
        },
        "d901850338e34920acd48a348a5f4677": {
          "model_module": "@jupyter-widgets/base",
          "model_name": "LayoutModel",
          "model_module_version": "1.2.0",
          "state": {
            "_view_name": "LayoutView",
            "grid_template_rows": null,
            "right": null,
            "justify_content": null,
            "_view_module": "@jupyter-widgets/base",
            "overflow": null,
            "_model_module_version": "1.2.0",
            "_view_count": null,
            "flex_flow": null,
            "width": null,
            "min_width": null,
            "border": null,
            "align_items": null,
            "bottom": null,
            "_model_module": "@jupyter-widgets/base",
            "top": null,
            "grid_column": null,
            "overflow_y": null,
            "overflow_x": null,
            "grid_auto_flow": null,
            "grid_area": null,
            "grid_template_columns": null,
            "flex": null,
            "_model_name": "LayoutModel",
            "justify_items": null,
            "grid_row": null,
            "max_height": null,
            "align_content": null,
            "visibility": null,
            "align_self": null,
            "height": null,
            "min_height": null,
            "padding": null,
            "grid_auto_rows": null,
            "grid_gap": null,
            "max_width": null,
            "order": null,
            "_view_module_version": "1.2.0",
            "grid_template_areas": null,
            "object_position": null,
            "object_fit": null,
            "grid_auto_columns": null,
            "margin": null,
            "display": null,
            "left": null
          }
        },
        "8fb0c3db700e42b48bf58fbcdf6a37ed": {
          "model_module": "@jupyter-widgets/controls",
          "model_name": "DescriptionStyleModel",
          "model_module_version": "1.5.0",
          "state": {
            "_view_name": "StyleView",
            "_model_name": "DescriptionStyleModel",
            "description_width": "",
            "_view_module": "@jupyter-widgets/base",
            "_model_module_version": "1.5.0",
            "_view_count": null,
            "_view_module_version": "1.2.0",
            "_model_module": "@jupyter-widgets/controls"
          }
        },
        "87d02b0409254364a918012f7d5c5395": {
          "model_module": "@jupyter-widgets/base",
          "model_name": "LayoutModel",
          "model_module_version": "1.2.0",
          "state": {
            "_view_name": "LayoutView",
            "grid_template_rows": null,
            "right": null,
            "justify_content": null,
            "_view_module": "@jupyter-widgets/base",
            "overflow": null,
            "_model_module_version": "1.2.0",
            "_view_count": null,
            "flex_flow": null,
            "width": null,
            "min_width": null,
            "border": null,
            "align_items": null,
            "bottom": null,
            "_model_module": "@jupyter-widgets/base",
            "top": null,
            "grid_column": null,
            "overflow_y": null,
            "overflow_x": null,
            "grid_auto_flow": null,
            "grid_area": null,
            "grid_template_columns": null,
            "flex": null,
            "_model_name": "LayoutModel",
            "justify_items": null,
            "grid_row": null,
            "max_height": null,
            "align_content": null,
            "visibility": null,
            "align_self": null,
            "height": null,
            "min_height": null,
            "padding": null,
            "grid_auto_rows": null,
            "grid_gap": null,
            "max_width": null,
            "order": null,
            "_view_module_version": "1.2.0",
            "grid_template_areas": null,
            "object_position": null,
            "object_fit": null,
            "grid_auto_columns": null,
            "margin": null,
            "display": null,
            "left": null
          }
        }
      }
    }
  },
  "cells": [
    {
      "cell_type": "markdown",
      "source": [
        "# Bert 임베딩 생성하기"
      ],
      "metadata": {
        "id": "C8n6GTkD8rt9"
      }
    },
    {
      "cell_type": "markdown",
      "source": [
        "Hugging Face의 오픈 소스 라이브러리인 `transformers` 설치"
      ],
      "metadata": {
        "id": "pcYFGwLsFp2h"
      }
    },
    {
      "cell_type": "code",
      "source": [
        "!pip uninstall transformers  # transformers-3.5.1 not working in colab 2022.01.19"
      ],
      "metadata": {
        "colab": {
          "base_uri": "https://localhost:8080/"
        },
        "id": "C54cYSRr7pMf",
        "outputId": "7fa05de2-9af5-4fde-adbc-403ebdb1e541"
      },
      "execution_count": 1,
      "outputs": [
        {
          "output_type": "stream",
          "name": "stdout",
          "text": [
            "\u001b[33mWARNING: Skipping transformers as it is not installed.\u001b[0m\n"
          ]
        }
      ]
    },
    {
      "cell_type": "code",
      "execution_count": 1,
      "metadata": {
        "colab": {
          "base_uri": "https://localhost:8080/"
        },
        "id": "yYkMQJcN6GmF",
        "outputId": "9af53c60-a300-409d-abb9-2783216b6b32"
      },
      "outputs": [
        {
          "output_type": "stream",
          "name": "stdout",
          "text": [
            "Collecting transformers\n",
            "  Downloading transformers-4.15.0-py3-none-any.whl (3.4 MB)\n",
            "\u001b[K     |████████████████████████████████| 3.4 MB 7.7 MB/s \n",
            "\u001b[?25hRequirement already satisfied: numpy>=1.17 in /usr/local/lib/python3.7/dist-packages (from transformers) (1.19.5)\n",
            "Requirement already satisfied: filelock in /usr/local/lib/python3.7/dist-packages (from transformers) (3.4.2)\n",
            "Collecting sacremoses\n",
            "  Downloading sacremoses-0.0.47-py2.py3-none-any.whl (895 kB)\n",
            "\u001b[K     |████████████████████████████████| 895 kB 64.7 MB/s \n",
            "\u001b[?25hCollecting tokenizers<0.11,>=0.10.1\n",
            "  Downloading tokenizers-0.10.3-cp37-cp37m-manylinux_2_5_x86_64.manylinux1_x86_64.manylinux_2_12_x86_64.manylinux2010_x86_64.whl (3.3 MB)\n",
            "\u001b[K     |████████████████████████████████| 3.3 MB 69.8 MB/s \n",
            "\u001b[?25hCollecting pyyaml>=5.1\n",
            "  Downloading PyYAML-6.0-cp37-cp37m-manylinux_2_5_x86_64.manylinux1_x86_64.manylinux_2_12_x86_64.manylinux2010_x86_64.whl (596 kB)\n",
            "\u001b[K     |████████████████████████████████| 596 kB 56.0 MB/s \n",
            "\u001b[?25hRequirement already satisfied: regex!=2019.12.17 in /usr/local/lib/python3.7/dist-packages (from transformers) (2019.12.20)\n",
            "Requirement already satisfied: importlib-metadata in /usr/local/lib/python3.7/dist-packages (from transformers) (4.10.0)\n",
            "Requirement already satisfied: tqdm>=4.27 in /usr/local/lib/python3.7/dist-packages (from transformers) (4.62.3)\n",
            "Requirement already satisfied: packaging>=20.0 in /usr/local/lib/python3.7/dist-packages (from transformers) (21.3)\n",
            "Requirement already satisfied: requests in /usr/local/lib/python3.7/dist-packages (from transformers) (2.23.0)\n",
            "Collecting huggingface-hub<1.0,>=0.1.0\n",
            "  Downloading huggingface_hub-0.4.0-py3-none-any.whl (67 kB)\n",
            "\u001b[K     |████████████████████████████████| 67 kB 7.4 MB/s \n",
            "\u001b[?25hRequirement already satisfied: typing-extensions>=3.7.4.3 in /usr/local/lib/python3.7/dist-packages (from huggingface-hub<1.0,>=0.1.0->transformers) (3.10.0.2)\n",
            "Requirement already satisfied: pyparsing!=3.0.5,>=2.0.2 in /usr/local/lib/python3.7/dist-packages (from packaging>=20.0->transformers) (3.0.6)\n",
            "Requirement already satisfied: zipp>=0.5 in /usr/local/lib/python3.7/dist-packages (from importlib-metadata->transformers) (3.7.0)\n",
            "Requirement already satisfied: urllib3!=1.25.0,!=1.25.1,<1.26,>=1.21.1 in /usr/local/lib/python3.7/dist-packages (from requests->transformers) (1.24.3)\n",
            "Requirement already satisfied: idna<3,>=2.5 in /usr/local/lib/python3.7/dist-packages (from requests->transformers) (2.10)\n",
            "Requirement already satisfied: chardet<4,>=3.0.2 in /usr/local/lib/python3.7/dist-packages (from requests->transformers) (3.0.4)\n",
            "Requirement already satisfied: certifi>=2017.4.17 in /usr/local/lib/python3.7/dist-packages (from requests->transformers) (2021.10.8)\n",
            "Requirement already satisfied: joblib in /usr/local/lib/python3.7/dist-packages (from sacremoses->transformers) (1.1.0)\n",
            "Requirement already satisfied: click in /usr/local/lib/python3.7/dist-packages (from sacremoses->transformers) (7.1.2)\n",
            "Requirement already satisfied: six in /usr/local/lib/python3.7/dist-packages (from sacremoses->transformers) (1.15.0)\n",
            "Installing collected packages: pyyaml, tokenizers, sacremoses, huggingface-hub, transformers\n",
            "  Attempting uninstall: pyyaml\n",
            "    Found existing installation: PyYAML 3.13\n",
            "    Uninstalling PyYAML-3.13:\n",
            "      Successfully uninstalled PyYAML-3.13\n",
            "Successfully installed huggingface-hub-0.4.0 pyyaml-6.0 sacremoses-0.0.47 tokenizers-0.10.3 transformers-4.15.0\n"
          ]
        }
      ],
      "source": [
        "!pip install transformers"
      ]
    },
    {
      "cell_type": "markdown",
      "source": [
        "모듈 임포트"
      ],
      "metadata": {
        "id": "_QEpaa4rFmxp"
      }
    },
    {
      "cell_type": "code",
      "source": [
        "from transformers import BertModel, BertTokenizer\n",
        "import torch"
      ],
      "metadata": {
        "id": "Bfou1DBs7Av1"
      },
      "execution_count": 2,
      "outputs": []
    },
    {
      "cell_type": "markdown",
      "source": [
        "## BERT의 최상위 인코더 계층에서만 임베딩 추출"
      ],
      "metadata": {
        "id": "oZ-9yykEAz68"
      }
    },
    {
      "cell_type": "markdown",
      "source": [
        "사전 학습된 BERT 모델 사용\n",
        "- 사용 가능한 모든 사전 학습된 BERT 모델 확인 - https://huggingface.co/models?sort=downloads&search=bert"
      ],
      "metadata": {
        "id": "ijYdoXCkF_0m"
      }
    },
    {
      "cell_type": "markdown",
      "source": [
        "`bert-base-uncased` 사용\n",
        "- 12개의 인코더가 있는 BERT 기반 모델이며 모두 소문자로 변환한 uncased 토큰으로 학습 \n",
        "- BERT-base를 사용하고 있으므로 표현 벡터(임베딩) 크기는 768\n",
        "    - 표현 벡터의 크기 = 은닉 벡터의 길이"
      ],
      "metadata": {
        "id": "nQJc5di-Eevi"
      }
    },
    {
      "cell_type": "markdown",
      "source": [
        "bert-base-uncased 모델 다운로드 및 로드"
      ],
      "metadata": {
        "id": "o6nIH119Ga0d"
      }
    },
    {
      "cell_type": "code",
      "source": [
        "model = BertModel.from_pretrained('bert-base-uncased')"
      ],
      "metadata": {
        "colab": {
          "base_uri": "https://localhost:8080/",
          "height": 153,
          "referenced_widgets": [
            "a30e2f7b7f0742378a49bb1a4e3c0c24",
            "48698a49e383479787a69c5637d6e0ca",
            "c516e979220847a3a02eeb1d55e0cce6",
            "442da47e3dc041958496334f81ca6d9c",
            "c807d4ffb886492c8158b0bb0b548fbb",
            "d945d1319d7a48f48b116d126ac9d5c2",
            "8f3675cadcdf44f2a9611475e5c45780",
            "2a84afa71e1b49feb8c3ede5641a9602",
            "2589f30f12a9449283cfa54af8c3a9b1",
            "f0375fa5d0ca4da1835a12c4ac335feb",
            "096594af794a4305bc3b21960ff4b713",
            "b1fafc4054024f64b65a8d5d6da2d274",
            "51938c3a4df042ad902bd0b356674f7e",
            "fdbc135a1566474593c57f2c545cf8e9",
            "debbcca354324eaeb5e56f1208721ef5",
            "2c8705446b0644e5a9d9ba8c1f69b435",
            "10996495eba6472592a90110e41d2e41",
            "2696869490b749cebfdf6dc8cce9f4f1",
            "5d553e9518094b74a01908c784b2749e",
            "6a30837b8b114268b8ffd570373d255b",
            "cda62a650ddc4fc696789faadd2d90e6",
            "03a93acdab744643b95cbfd810dad451"
          ]
        },
        "id": "GzX9I-6q7Sen",
        "outputId": "40495ed8-51e1-407c-c785-dea56885c251"
      },
      "execution_count": 3,
      "outputs": [
        {
          "output_type": "display_data",
          "data": {
            "application/vnd.jupyter.widget-view+json": {
              "model_id": "a30e2f7b7f0742378a49bb1a4e3c0c24",
              "version_minor": 0,
              "version_major": 2
            },
            "text/plain": [
              "Downloading:   0%|          | 0.00/570 [00:00<?, ?B/s]"
            ]
          },
          "metadata": {}
        },
        {
          "output_type": "display_data",
          "data": {
            "application/vnd.jupyter.widget-view+json": {
              "model_id": "b1fafc4054024f64b65a8d5d6da2d274",
              "version_minor": 0,
              "version_major": 2
            },
            "text/plain": [
              "Downloading:   0%|          | 0.00/420M [00:00<?, ?B/s]"
            ]
          },
          "metadata": {}
        },
        {
          "output_type": "stream",
          "name": "stderr",
          "text": [
            "Some weights of the model checkpoint at bert-base-uncased were not used when initializing BertModel: ['cls.predictions.transform.dense.weight', 'cls.predictions.transform.LayerNorm.weight', 'cls.predictions.bias', 'cls.predictions.transform.dense.bias', 'cls.predictions.transform.LayerNorm.bias', 'cls.seq_relationship.bias', 'cls.predictions.decoder.weight', 'cls.seq_relationship.weight']\n",
            "- This IS expected if you are initializing BertModel from the checkpoint of a model trained on another task or with another architecture (e.g. initializing a BertForSequenceClassification model from a BertForPreTraining model).\n",
            "- This IS NOT expected if you are initializing BertModel from the checkpoint of a model that you expect to be exactly identical (initializing a BertForSequenceClassification model from a BertForSequenceClassification model).\n"
          ]
        }
      ]
    },
    {
      "cell_type": "markdown",
      "source": [
        "bert-base-uncased 모델을 사전학습할 때 사용한 tokenizer 다운로드 및 로드"
      ],
      "metadata": {
        "id": "iYoW6QGRGjEu"
      }
    },
    {
      "cell_type": "code",
      "source": [
        "tokenizer = BertTokenizer.from_pretrained('bert-base-uncased')"
      ],
      "metadata": {
        "colab": {
          "base_uri": "https://localhost:8080/",
          "height": 113,
          "referenced_widgets": [
            "8f78e1688cac41bf8f0563cf9ba07e78",
            "b8b3118f987743d99c2594a4496cc9e1",
            "d298d1c96eaa4c8c89c46ec8710cfd8b",
            "6b21114af9a24a5eb3b8c468cd427765",
            "e301935a34364918bb68ce91bf256d73",
            "a0857533e01848338b4e1dab932b2b7c",
            "d3b0ec92000146ecafff3dd28ec5715f",
            "e61177ffcaa3474ca05163c79c4d21d1",
            "f0d74665bb084cb684e10c57aaebcd28",
            "7980a9ae85be4397b1e3e64a97fd64d2",
            "26e69661f65745d89bbbe43f37054a63",
            "e4518f20fc2d4b18a257df3996fff328",
            "3f5e664888a54505a0b912541104805e",
            "5d4d4408670d40fcb06448eb3a07f5df",
            "83ad8f6251f94b58816bca7e9dc2d1db",
            "01bc33bd632d4abea69ec5ffb4767900",
            "e8ecc3b0691f41f582b9dcd38d863b14",
            "2d6cde3fbf1f4587b869e0744b28480d",
            "0adb891e4d65400bbb13808b1ffc5cf0",
            "3ce183b92bbb4ad68c9d370a6c6c8570",
            "0c2b93daa4b1412faf371146e1fd300b",
            "9781ed19c094490ab8249cbe14dbf368",
            "3d32dbe6f93d461db763428085cf338a",
            "68a69492431f438aa18bd6233bf1629b",
            "e9aa9cc33290474d819e95ebc68e6cb5",
            "0cb4e8af085e4c8b8c919bdfc77903e5",
            "ef812dca71c74b5ea021cdf54c1021c3",
            "02bcaf75c9ab4813b88f68a011bba50e",
            "cfd703a90ba344368bb76720700e64b9",
            "9319766154d64415972874c1240297f5",
            "d901850338e34920acd48a348a5f4677",
            "8fb0c3db700e42b48bf58fbcdf6a37ed",
            "87d02b0409254364a918012f7d5c5395"
          ]
        },
        "id": "pVEn0h3GGlVi",
        "outputId": "7afecacf-00ed-4645-adb1-9eb82b97f380"
      },
      "execution_count": 4,
      "outputs": [
        {
          "output_type": "display_data",
          "data": {
            "application/vnd.jupyter.widget-view+json": {
              "model_id": "8f78e1688cac41bf8f0563cf9ba07e78",
              "version_minor": 0,
              "version_major": 2
            },
            "text/plain": [
              "Downloading:   0%|          | 0.00/226k [00:00<?, ?B/s]"
            ]
          },
          "metadata": {}
        },
        {
          "output_type": "display_data",
          "data": {
            "application/vnd.jupyter.widget-view+json": {
              "model_id": "e4518f20fc2d4b18a257df3996fff328",
              "version_minor": 0,
              "version_major": 2
            },
            "text/plain": [
              "Downloading:   0%|          | 0.00/28.0 [00:00<?, ?B/s]"
            ]
          },
          "metadata": {}
        },
        {
          "output_type": "display_data",
          "data": {
            "application/vnd.jupyter.widget-view+json": {
              "model_id": "3d32dbe6f93d461db763428085cf338a",
              "version_minor": 0,
              "version_major": 2
            },
            "text/plain": [
              "Downloading:   0%|          | 0.00/455k [00:00<?, ?B/s]"
            ]
          },
          "metadata": {}
        }
      ]
    },
    {
      "cell_type": "markdown",
      "source": [
        "### 입력 전처리하기"
      ],
      "metadata": {
        "id": "Hozaa2pb8oMP"
      }
    },
    {
      "cell_type": "markdown",
      "source": [
        "문장 정의"
      ],
      "metadata": {
        "id": "vn2IHKHaG4Vv"
      }
    },
    {
      "cell_type": "code",
      "source": [
        "sentence = 'I love Paris'"
      ],
      "metadata": {
        "id": "A33gDozqAT9U"
      },
      "execution_count": 5,
      "outputs": []
    },
    {
      "cell_type": "markdown",
      "source": [
        "tokenizer를 이용해 문장 토큰화"
      ],
      "metadata": {
        "id": "wstdbcbwG5cy"
      }
    },
    {
      "cell_type": "code",
      "source": [
        "tokens = tokenizer.tokenize(sentence)\n",
        "print(tokens)"
      ],
      "metadata": {
        "id": "AoTaZ8FJ8GoI",
        "colab": {
          "base_uri": "https://localhost:8080/"
        },
        "outputId": "1fe12569-d12f-4168-d90d-4f27fafe00ac"
      },
      "execution_count": 6,
      "outputs": [
        {
          "output_type": "stream",
          "name": "stdout",
          "text": [
            "['i', 'love', 'paris']\n"
          ]
        }
      ]
    },
    {
      "cell_type": "markdown",
      "source": [
        "토큰 리스트 시작 부분에 `[CLS]` 토큰을 추가하고 끝에 `[SEP]` 토큰을 추가"
      ],
      "metadata": {
        "id": "eVFqtBmuG9Bj"
      }
    },
    {
      "cell_type": "code",
      "source": [
        "tokens = ['[CLS]'] + tokens + ['[SEP]']\n",
        "print(tokens)"
      ],
      "metadata": {
        "id": "OYtLSn1j8v3H",
        "colab": {
          "base_uri": "https://localhost:8080/"
        },
        "outputId": "1964feaa-d153-454d-df2d-5e4fe0c3105b"
      },
      "execution_count": 7,
      "outputs": [
        {
          "output_type": "stream",
          "name": "stdout",
          "text": [
            "['[CLS]', 'i', 'love', 'paris', '[SEP]']\n"
          ]
        }
      ]
    },
    {
      "cell_type": "markdown",
      "source": [
        "토큰 리스트의 길이를 7로 유지해야 한다고 가정하면, 모자란 개수(2개)만큼 `[PAD]` 토큰 추가"
      ],
      "metadata": {
        "id": "iPhjit-AHJ3H"
      }
    },
    {
      "cell_type": "code",
      "source": [
        "tokens = tokens + ['[PAD]'] + ['[PAD]']\n",
        "print(tokens)"
      ],
      "metadata": {
        "colab": {
          "base_uri": "https://localhost:8080/"
        },
        "id": "OjRNROC4Aeh6",
        "outputId": "f9f235aa-5d19-428b-e2a3-adcaae5a7d53"
      },
      "execution_count": 8,
      "outputs": [
        {
          "output_type": "stream",
          "name": "stdout",
          "text": [
            "['[CLS]', 'i', 'love', 'paris', '[SEP]', '[PAD]', '[PAD]']\n"
          ]
        }
      ]
    },
    {
      "cell_type": "markdown",
      "source": [
        "어텐션 마스크 생성 : 모든 위치에서 어텐션 마스크값을 1로 설정하고 `[PAD] ` 토큰이 있는 위치에만 0을 설정"
      ],
      "metadata": {
        "id": "CSHaxPFtHdEp"
      }
    },
    {
      "cell_type": "code",
      "source": [
        "attention_mask = [1 if i!= '[PAD]' else 0 for i in tokens]\n",
        "print(attention_mask)"
      ],
      "metadata": {
        "colab": {
          "base_uri": "https://localhost:8080/"
        },
        "id": "xwj7w8y5Ap1h",
        "outputId": "debb7ff0-a0f7-4c76-8725-feed5e6c59ca"
      },
      "execution_count": 9,
      "outputs": [
        {
          "output_type": "stream",
          "name": "stdout",
          "text": [
            "[1, 1, 1, 1, 1, 0, 0]\n"
          ]
        }
      ]
    },
    {
      "cell_type": "markdown",
      "source": [
        "모든 토큰을 토큰 ID로 변환"
      ],
      "metadata": {
        "id": "KKk9jVruHlUv"
      }
    },
    {
      "cell_type": "code",
      "source": [
        "token_ids = tokenizer.convert_tokens_to_ids(tokens)\n",
        "print(token_ids)"
      ],
      "metadata": {
        "colab": {
          "base_uri": "https://localhost:8080/"
        },
        "id": "JUEyJr5cAzBg",
        "outputId": "d11ffab6-8168-43f6-b40d-f94fabe72518"
      },
      "execution_count": 10,
      "outputs": [
        {
          "output_type": "stream",
          "name": "stdout",
          "text": [
            "[101, 1045, 2293, 3000, 102, 0, 0]\n"
          ]
        }
      ]
    },
    {
      "cell_type": "markdown",
      "source": [
        "token_ids와 attention_mask를 텐서로 변환"
      ],
      "metadata": {
        "id": "r30NNy6pHqoB"
      }
    },
    {
      "cell_type": "code",
      "source": [
        "token_ids = torch.tensor(token_ids).unsqueeze(0)\n",
        "attention_mask = torch.tensor(attention_mask).unsqueeze(0)"
      ],
      "metadata": {
        "id": "4eioyegCAypD"
      },
      "execution_count": 11,
      "outputs": []
    },
    {
      "cell_type": "markdown",
      "source": [
        "### 임베딩 추출하기"
      ],
      "metadata": {
        "id": "LOoIULNsBYRn"
      }
    },
    {
      "cell_type": "code",
      "source": [
        "hidden_rep, cls_head = model(token_ids, attention_mask = attention_mask)"
      ],
      "metadata": {
        "id": "5yevencLBaGf"
      },
      "execution_count": 12,
      "outputs": []
    },
    {
      "cell_type": "code",
      "source": [
        "print(hidden_rep)"
      ],
      "metadata": {
        "colab": {
          "base_uri": "https://localhost:8080/"
        },
        "id": "7Vkc1vX0Bao7",
        "outputId": "42feeb04-7973-4389-c91a-8efadd9ca96c"
      },
      "execution_count": 13,
      "outputs": [
        {
          "output_type": "stream",
          "name": "stdout",
          "text": [
            "last_hidden_state\n"
          ]
        }
      ]
    },
    {
      "cell_type": "code",
      "source": [
        "print(cls_head)"
      ],
      "metadata": {
        "colab": {
          "base_uri": "https://localhost:8080/"
        },
        "id": "fRo1G4CkBajU",
        "outputId": "3f374d8f-3238-484d-bb27-c08786377025"
      },
      "execution_count": 14,
      "outputs": [
        {
          "output_type": "stream",
          "name": "stdout",
          "text": [
            "pooler_output\n"
          ]
        }
      ]
    },
    {
      "cell_type": "markdown",
      "source": [
        "📌 모델이 반환하는 출력이 책의 실습 코드 [3.03. Generating BERT embedding .ipynb](https://github.com/PacktPublishing/Getting-Started-with-Google-BERT/blob/main/Chapter03/3.03.%20Generating%20BERT%20embedding%20.ipynb) 와 상이하다."
      ],
      "metadata": {
        "id": "sGzaa_S3IfOX"
      }
    },
    {
      "cell_type": "code",
      "source": [
        "model(token_ids, attention_mask = attention_mask)"
      ],
      "metadata": {
        "colab": {
          "base_uri": "https://localhost:8080/"
        },
        "id": "C4zKpPaGCC2k",
        "outputId": "f3e28b97-a5f9-4152-b5be-b330b04e6e89"
      },
      "execution_count": 15,
      "outputs": [
        {
          "output_type": "execute_result",
          "data": {
            "text/plain": [
              "BaseModelOutputWithPoolingAndCrossAttentions([('last_hidden_state',\n",
              "                                               tensor([[[-0.0719,  0.2163,  0.0047,  ..., -0.5865,  0.2262,  0.1981],\n",
              "                                                        [ 0.2236,  0.6536, -0.2294,  ..., -0.3547,  0.5517, -0.2367],\n",
              "                                                        [ 1.0410,  0.7755,  1.0335,  ..., -0.5621,  0.5218, -0.0852],\n",
              "                                                        ...,\n",
              "                                                        [ 0.6156,  0.1036, -0.1875,  ..., -0.3799, -0.7008, -0.3500],\n",
              "                                                        [ 0.0791,  0.4287,  0.4147,  ..., -0.2417,  0.2403,  0.0378],\n",
              "                                                        [-0.0165,  0.2459,  0.4566,  ..., -0.2179,  0.1876,  0.0228]]],\n",
              "                                                      grad_fn=<NativeLayerNormBackward0>)),\n",
              "                                              ('pooler_output',\n",
              "                                               tensor([[-9.0660e-01, -3.4189e-01, -3.3729e-01,  7.7140e-01,  6.0977e-02,\n",
              "                                                        -1.0525e-01,  9.0143e-01,  2.5822e-01, -2.7881e-01, -9.9997e-01,\n",
              "                                                        -1.0322e-01,  7.4773e-01,  9.8521e-01,  5.9799e-02,  9.4447e-01,\n",
              "                                                        -5.9859e-01, -2.0539e-01, -5.7386e-01,  3.7684e-01, -7.5183e-01,\n",
              "                                                         6.6604e-01,  9.9584e-01,  4.2231e-01,  2.2824e-01,  4.9139e-01,\n",
              "                                                         9.2378e-01, -6.6123e-01,  9.3111e-01,  9.6157e-01,  6.8817e-01,\n",
              "                                                        -6.7706e-01,  1.2696e-01, -9.8735e-01, -1.3884e-01, -4.2742e-01,\n",
              "                                                        -9.9151e-01,  3.1577e-01, -7.9245e-01,  1.1233e-01,  2.5441e-02,\n",
              "                                                        -9.0001e-01,  2.9572e-01,  9.9972e-01,  2.9507e-02,  9.4610e-02,\n",
              "                                                        -2.3375e-01, -1.0000e+00,  2.1042e-01, -8.8451e-01,  4.4717e-01,\n",
              "                                                         2.8363e-01,  2.3094e-01,  1.6396e-01,  4.6484e-01,  4.1578e-01,\n",
              "                                                         1.0880e-01, -6.9020e-02,  1.0251e-01, -1.8506e-01, -5.5142e-01,\n",
              "                                                        -5.4772e-01,  3.2660e-01, -4.7119e-01, -9.0760e-01,  4.0407e-01,\n",
              "                                                         8.4502e-03, -5.0541e-02, -2.2187e-01, -3.5096e-02, -1.5909e-01,\n",
              "                                                         8.6302e-01,  2.0347e-01,  2.2685e-01, -8.1223e-01,  8.9117e-02,\n",
              "                                                         1.9976e-01, -5.3915e-01,  1.0000e+00, -5.2943e-01, -9.8107e-01,\n",
              "                                                         1.2215e-01,  1.7052e-01,  4.4200e-01,  2.9078e-01, -2.2429e-01,\n",
              "                                                        -1.0000e+00,  4.5435e-01, -1.0752e-01, -9.8928e-01,  1.9557e-01,\n",
              "                                                         3.7944e-01, -1.3400e-01, -3.7233e-01,  4.8776e-01, -2.7150e-01,\n",
              "                                                        -2.9951e-01, -2.5372e-01, -3.0055e-01, -1.6436e-01, -2.0432e-01,\n",
              "                                                         4.5898e-02, -1.5984e-01, -6.8893e-02, -2.8614e-01,  2.0454e-01,\n",
              "                                                        -4.2329e-01, -6.0078e-01,  2.4896e-01, -2.7211e-01,  6.3257e-01,\n",
              "                                                         2.8514e-01, -2.4841e-01,  3.5746e-01, -9.6110e-01,  6.6496e-01,\n",
              "                                                        -2.5975e-01, -9.8228e-01, -5.0323e-01, -9.8950e-01,  7.1751e-01,\n",
              "                                                         3.3974e-02, -1.6794e-01,  9.6757e-01,  3.7200e-01,  2.8462e-01,\n",
              "                                                        -2.2425e-02, -3.7636e-01, -1.0000e+00, -5.5433e-01, -1.5097e-01,\n",
              "                                                         1.1861e-01, -2.0500e-01, -9.7818e-01, -9.4408e-01,  6.0784e-01,\n",
              "                                                         9.5020e-01,  9.3146e-02,  9.9944e-01, -3.1656e-01,  9.3937e-01,\n",
              "                                                         1.0257e-02, -3.0524e-01,  1.3859e-01, -4.5599e-01,  4.7351e-01,\n",
              "                                                         3.6347e-01, -7.3368e-01,  1.5255e-01, -4.4811e-02,  2.6415e-01,\n",
              "                                                        -2.6249e-01, -2.5647e-01, -1.9468e-01, -9.3597e-01, -3.6595e-01,\n",
              "                                                         9.4583e-01, -6.5555e-02, -4.0125e-01,  5.3403e-01, -2.8004e-01,\n",
              "                                                        -3.8514e-01,  8.5284e-01,  3.8798e-01,  3.1723e-01, -9.4208e-02,\n",
              "                                                         4.4104e-01, -1.2676e-01,  5.5534e-01, -8.1261e-01,  1.4222e-02,\n",
              "                                                         4.3945e-01, -2.3209e-01, -1.5539e-01, -9.8027e-01, -3.1189e-01,\n",
              "                                                         4.7667e-01,  9.8781e-01,  7.5918e-01,  2.3170e-01,  5.0506e-01,\n",
              "                                                        -1.5959e-01,  5.4271e-01, -9.5258e-01,  9.7944e-01, -2.4452e-01,\n",
              "                                                         2.3859e-01,  4.9278e-01,  1.4287e-01, -8.5605e-01, -3.0050e-01,\n",
              "                                                         8.2882e-01, -5.1995e-01, -8.5260e-01,  8.5934e-02, -4.4540e-01,\n",
              "                                                        -3.9270e-01, -1.5282e-01,  5.1311e-01, -2.6343e-01, -3.6877e-01,\n",
              "                                                         2.9660e-02,  9.0136e-01,  9.7166e-01,  8.2276e-01, -3.7987e-01,\n",
              "                                                         6.0987e-01, -9.1858e-01, -4.1369e-01,  8.5551e-02,  2.2591e-01,\n",
              "                                                         1.2908e-01,  9.9388e-01, -5.4388e-02, -1.7653e-01, -9.3923e-01,\n",
              "                                                        -9.8710e-01, -5.6532e-02, -9.0781e-01, -3.8273e-02, -6.4293e-01,\n",
              "                                                         4.0239e-01,  4.5160e-01,  1.6601e-01,  4.0908e-01, -9.9176e-01,\n",
              "                                                        -7.7417e-01,  3.3418e-01, -3.0262e-01,  4.0393e-01, -2.2568e-01,\n",
              "                                                         3.4403e-01,  6.5064e-01, -5.2289e-01,  7.9253e-01,  8.5089e-01,\n",
              "                                                        -9.9034e-02, -6.6476e-01,  8.4785e-01, -2.3960e-01,  8.9095e-01,\n",
              "                                                        -6.0081e-01,  9.8772e-01,  5.2637e-01,  7.1539e-01, -9.4382e-01,\n",
              "                                                        -2.6947e-02, -8.9317e-01, -2.5833e-01, -5.0680e-02, -4.4805e-01,\n",
              "                                                         4.6222e-01,  4.8956e-01,  3.5595e-01,  7.6262e-01, -6.2524e-01,\n",
              "                                                         9.9796e-01, -3.9808e-01, -9.5422e-01,  2.1079e-01, -2.4096e-01,\n",
              "                                                        -9.8628e-01,  4.0971e-01,  2.0490e-01, -4.3229e-01, -3.5297e-01,\n",
              "                                                        -4.6597e-01, -9.5645e-01,  9.1401e-01,  7.0785e-02,  9.9075e-01,\n",
              "                                                         6.7392e-03, -9.3715e-01, -4.8485e-01, -9.1042e-01, -2.1888e-01,\n",
              "                                                        -1.3952e-01,  3.0265e-01, -2.1077e-01, -9.6109e-01,  4.5869e-01,\n",
              "                                                         4.8165e-01,  4.8832e-01, -1.0897e-01,  9.9831e-01,  9.9998e-01,\n",
              "                                                         9.7482e-01,  8.9820e-01,  9.0949e-01, -9.8556e-01, -2.5523e-01,\n",
              "                                                         9.9999e-01, -9.0774e-01, -1.0000e+00, -9.2744e-01, -5.5746e-01,\n",
              "                                                         2.4192e-01, -1.0000e+00, -3.7209e-02,  5.3762e-02, -9.2917e-01,\n",
              "                                                        -1.7545e-02,  9.8157e-01,  9.9313e-01, -1.0000e+00,  8.6012e-01,\n",
              "                                                         9.4574e-01, -5.6222e-01,  7.5814e-01, -2.3953e-01,  9.7340e-01,\n",
              "                                                         3.6503e-01,  2.8978e-01, -2.3095e-01,  3.4518e-01, -4.6774e-01,\n",
              "                                                        -8.5951e-01,  4.7866e-02, -9.3614e-02,  9.0046e-01,  9.4787e-02,\n",
              "                                                        -7.3987e-01, -9.4770e-01,  1.3531e-01, -1.3985e-01, -2.2744e-01,\n",
              "                                                        -9.6028e-01, -7.6159e-02,  2.8726e-01,  7.1045e-01,  8.1054e-02,\n",
              "                                                         2.3858e-01, -7.8597e-01,  1.9432e-01, -6.5189e-01,  4.5484e-01,\n",
              "                                                         5.9485e-01, -9.5303e-01, -6.7571e-01, -1.6829e-01, -2.6858e-01,\n",
              "                                                        -1.8852e-02, -9.3974e-01,  9.7244e-01, -4.1418e-01,  5.5397e-01,\n",
              "                                                         1.0000e+00,  6.7242e-02, -9.0357e-01,  3.8333e-01,  1.7075e-01,\n",
              "                                                         9.1030e-02,  1.0000e+00,  6.6256e-01, -9.7822e-01, -4.7003e-01,\n",
              "                                                         4.8857e-01, -4.7954e-01, -4.4943e-01,  9.9902e-01, -2.4455e-01,\n",
              "                                                         2.7923e-02,  2.6862e-01,  9.7364e-01, -9.9015e-01,  8.2752e-01,\n",
              "                                                        -9.1195e-01, -9.6930e-01,  9.6406e-01,  9.3691e-01, -3.6014e-01,\n",
              "                                                        -7.0250e-01,  1.0417e-01, -1.8180e-01,  2.3008e-01, -9.6799e-01,\n",
              "                                                         6.9217e-01,  4.2966e-01, -1.0165e-01,  9.0773e-01, -8.7691e-01,\n",
              "                                                        -4.3018e-01,  3.5562e-01, -2.2115e-01,  1.6860e-01,  4.9965e-01,\n",
              "                                                         5.1945e-01, -1.8539e-01,  1.0172e-01, -2.1061e-01,  3.3847e-03,\n",
              "                                                        -9.7327e-01,  1.3324e-01,  1.0000e+00, -7.5042e-02,  3.6619e-02,\n",
              "                                                        -3.9262e-01, -6.5351e-03, -2.7287e-01,  3.9574e-01,  3.9382e-01,\n",
              "                                                        -3.0707e-01, -8.4807e-01,  3.8420e-01, -9.5470e-01, -9.8489e-01,\n",
              "                                                         7.6798e-01,  1.4348e-01, -2.8546e-01,  9.9994e-01,  4.1163e-01,\n",
              "                                                         1.6070e-01,  1.2186e-01,  8.2578e-01, -5.7293e-02,  5.6674e-01,\n",
              "                                                         1.8886e-01,  9.7533e-01, -1.4569e-01,  4.8805e-01,  8.5755e-01,\n",
              "                                                        -4.0105e-01, -2.8342e-01, -6.4264e-01, -5.3021e-03, -9.0426e-01,\n",
              "                                                         6.8656e-03, -9.5985e-01,  9.6273e-01,  5.4771e-01,  2.7272e-01,\n",
              "                                                         1.1672e-01,  1.8696e-01,  1.0000e+00,  1.3563e-01,  5.7521e-01,\n",
              "                                                        -5.4665e-01,  8.8256e-01, -9.7980e-01, -8.2186e-01, -3.9412e-01,\n",
              "                                                         6.9254e-02, -2.4739e-01, -2.4468e-01,  2.2320e-01, -9.7092e-01,\n",
              "                                                         1.6613e-01,  2.7089e-01, -9.8789e-01, -9.9264e-01,  1.4982e-01,\n",
              "                                                         7.7813e-01,  7.5834e-02, -7.5816e-01, -6.9681e-01, -5.4449e-01,\n",
              "                                                         4.2848e-01, -2.6814e-01, -9.4467e-01,  2.8672e-01, -1.7200e-01,\n",
              "                                                         4.9967e-01, -1.7855e-01,  4.6067e-01,  1.0443e-01,  8.0958e-01,\n",
              "                                                         3.0960e-01,  1.1103e-01,  2.0682e-02, -7.7644e-01,  7.9258e-01,\n",
              "                                                        -8.3320e-01, -4.5220e-01, -9.7232e-02,  1.0000e+00, -4.7325e-01,\n",
              "                                                         2.6075e-01,  7.4868e-01,  7.9047e-01, -1.2065e-01,  1.6631e-01,\n",
              "                                                         4.3811e-01,  1.9812e-01, -1.2819e-01, -1.4429e-01, -7.9943e-01,\n",
              "                                                        -3.4779e-01,  5.3907e-01, -2.8876e-01, -1.2784e-01,  7.8907e-01,\n",
              "                                                         2.7644e-01,  1.2553e-01,  9.6569e-02, -8.6045e-04,  9.9958e-01,\n",
              "                                                        -2.4824e-01, -1.9148e-01, -4.8891e-01,  3.5458e-02, -3.5075e-01,\n",
              "                                                        -4.9195e-01,  1.0000e+00,  3.1492e-01,  1.3190e-01, -9.9190e-01,\n",
              "                                                        -2.3020e-01, -9.1818e-01,  9.9990e-01,  8.1607e-01, -8.3672e-01,\n",
              "                                                         5.7710e-01,  5.4205e-01, -6.0926e-02,  8.1453e-01, -1.8440e-01,\n",
              "                                                        -1.1731e-01,  2.2679e-01,  4.9845e-02,  9.6623e-01, -4.2748e-01,\n",
              "                                                        -9.6389e-01, -5.0603e-01,  3.6750e-01, -9.6186e-01,  9.8817e-01,\n",
              "                                                        -4.9461e-01, -1.6667e-01, -2.8972e-01,  5.0911e-02,  7.1987e-01,\n",
              "                                                         3.2723e-02, -9.8163e-01, -1.8460e-01,  2.4921e-02,  9.6903e-01,\n",
              "                                                         1.4459e-01, -5.1089e-01, -9.1297e-01,  1.9776e-01,  3.1597e-01,\n",
              "                                                        -3.4459e-01, -9.5039e-01,  9.7347e-01, -9.8541e-01,  5.6550e-01,\n",
              "                                                         1.0000e+00,  1.6803e-01, -5.2763e-01,  1.7335e-01, -3.5292e-01,\n",
              "                                                         2.4425e-01, -1.6083e-01,  5.5743e-01, -9.5780e-01, -2.7111e-01,\n",
              "                                                        -1.5769e-01,  3.2735e-01, -1.9443e-01,  5.6068e-02,  7.1469e-01,\n",
              "                                                         1.4012e-01, -4.5109e-01, -5.5167e-01, -5.8712e-02,  4.0066e-01,\n",
              "                                                         8.0510e-01, -2.4921e-01, -1.1596e-01,  8.1007e-02, -6.8707e-02,\n",
              "                                                        -9.5142e-01, -3.0857e-01, -3.3517e-01, -9.9849e-01,  5.8358e-01,\n",
              "                                                        -1.0000e+00, -1.7749e-02, -3.8238e-01, -2.0135e-01,  8.2339e-01,\n",
              "                                                         7.3315e-02,  2.2555e-01, -7.3748e-01, -1.5620e-01,  7.2231e-01,\n",
              "                                                         7.8650e-01, -2.6355e-01, -2.3780e-01, -7.5355e-01,  2.1576e-01,\n",
              "                                                         3.3274e-03,  3.2797e-01, -1.6445e-01,  7.0653e-01, -1.6586e-01,\n",
              "                                                         1.0000e+00,  3.6853e-02, -5.5209e-01, -9.7956e-01,  2.1084e-01,\n",
              "                                                        -2.2580e-01,  9.9999e-01, -9.0543e-01, -9.5194e-01,  3.5803e-01,\n",
              "                                                        -5.4486e-01, -8.3170e-01,  2.0722e-01, -1.1187e-01, -7.1528e-01,\n",
              "                                                        -6.5816e-01,  9.5457e-01,  8.6705e-01, -4.6680e-01,  4.5275e-01,\n",
              "                                                        -2.8203e-01, -5.2516e-01,  2.4673e-02,  2.3666e-01,  9.8751e-01,\n",
              "                                                         1.6960e-01,  9.1254e-01,  3.8520e-01, -5.2774e-02,  9.6522e-01,\n",
              "                                                         2.1477e-01,  6.8869e-01,  1.3419e-01,  1.0000e+00,  2.5379e-01,\n",
              "                                                        -9.1662e-01,  1.8445e-01, -9.8539e-01, -1.7379e-01, -9.5886e-01,\n",
              "                                                         2.4864e-01,  1.0564e-01,  8.8982e-01, -1.9566e-01,  9.6709e-01,\n",
              "                                                        -1.6387e-01,  6.2168e-02, -3.2528e-01,  2.9287e-01,  3.6544e-01,\n",
              "                                                        -9.2183e-01, -9.8603e-01, -9.8862e-01,  5.1165e-01, -4.1985e-01,\n",
              "                                                        -5.2828e-02,  2.2914e-01,  1.5558e-01,  3.7237e-01,  4.2995e-01,\n",
              "                                                        -1.0000e+00,  9.4092e-01,  3.5116e-01,  2.6950e-01,  9.6724e-01,\n",
              "                                                         5.0886e-01,  4.4842e-01,  1.9517e-01, -9.8747e-01, -9.7901e-01,\n",
              "                                                        -3.3062e-01, -2.0128e-01,  7.6804e-01,  6.3693e-01,  8.5249e-01,\n",
              "                                                         4.2277e-01, -4.5014e-01, -8.7410e-02,  2.3122e-01, -4.1254e-01,\n",
              "                                                        -9.9309e-01,  3.7523e-01, -9.7384e-02, -9.7192e-01,  9.5663e-01,\n",
              "                                                        -3.8314e-01, -9.1959e-02,  3.2168e-01, -2.1239e-01,  9.5619e-01,\n",
              "                                                         8.0648e-01,  4.8650e-01,  1.0678e-01,  4.6444e-01,  9.2019e-01,\n",
              "                                                         9.4756e-01,  9.8960e-01, -3.1468e-01,  7.9191e-01, -2.3371e-01,\n",
              "                                                         4.0808e-01,  4.0834e-01, -9.2244e-01,  8.3447e-02,  1.1936e-01,\n",
              "                                                        -1.6753e-01,  2.4999e-01, -1.7787e-01, -9.7539e-01,  4.0304e-01,\n",
              "                                                        -2.3984e-01,  4.3153e-01, -4.0423e-01,  1.3859e-01, -3.7546e-01,\n",
              "                                                        -1.1792e-01, -6.6992e-01, -5.7544e-01,  5.6841e-01,  2.7722e-01,\n",
              "                                                         9.1280e-01,  5.2105e-01, -2.5549e-02, -7.2245e-01, -2.0173e-01,\n",
              "                                                        -3.1764e-02, -9.1190e-01,  9.3950e-01, -5.4791e-02,  2.3775e-01,\n",
              "                                                        -9.2642e-02, -5.8986e-02,  5.5153e-01, -1.7753e-01, -3.7412e-01,\n",
              "                                                        -3.0714e-01, -7.3179e-01,  8.9369e-01, -1.9860e-01, -4.5436e-01,\n",
              "                                                        -5.1354e-01,  7.0488e-01,  2.6542e-01,  9.9715e-01, -1.5817e-01,\n",
              "                                                        -5.1730e-01, -2.4476e-01, -2.4036e-01,  2.6018e-01, -2.8945e-01,\n",
              "                                                        -1.0000e+00,  4.2029e-01, -1.4138e-01,  2.0229e-01, -2.8328e-01,\n",
              "                                                         1.8165e-01, -3.3790e-01, -9.8112e-01, -1.1746e-01,  4.8851e-02,\n",
              "                                                         9.2833e-02, -4.8529e-01, -6.1237e-01,  5.2537e-01, -2.1332e-01,\n",
              "                                                         7.9100e-01,  8.9052e-01,  2.9390e-02,  5.8748e-01,  5.7159e-01,\n",
              "                                                         8.0724e-02, -6.6481e-01,  9.1761e-01]], grad_fn=<TanhBackward0>))])"
            ]
          },
          "metadata": {},
          "execution_count": 15
        }
      ]
    },
    {
      "cell_type": "code",
      "source": [
        "output = model(token_ids, attention_mask = attention_mask)"
      ],
      "metadata": {
        "id": "kSijS-haDDgB"
      },
      "execution_count": 16,
      "outputs": []
    },
    {
      "cell_type": "markdown",
      "source": [
        "Cf. 책에서는 `last_hidden_state`를 `hidden_rep`로, `pooler_output`을 `cls_head`라고 기술했다."
      ],
      "metadata": {
        "id": "zkeNrGiIJX8f"
      }
    },
    {
      "cell_type": "code",
      "source": [
        "last_hidden_state = output[0]\n",
        "pooler_output = output[1]"
      ],
      "metadata": {
        "id": "2XbYfWcVDFvZ"
      },
      "execution_count": 17,
      "outputs": []
    },
    {
      "cell_type": "markdown",
      "source": [
        "`last_hidden_state`는 최종 인코더(12번째 인코더)에서만 얻은, 입력에 대한 모든 토큰의 임베딩(표현)을 포함"
      ],
      "metadata": {
        "id": "qGo5vEOkKX1V"
      }
    },
    {
      "cell_type": "code",
      "source": [
        "print(last_hidden_state.shape) # [batch_size, seqeunce_length, hidden_size]"
      ],
      "metadata": {
        "colab": {
          "base_uri": "https://localhost:8080/"
        },
        "id": "botrpu9LECK_",
        "outputId": "294870e2-a9a7-4232-d38e-10490ef3a38f"
      },
      "execution_count": 18,
      "outputs": [
        {
          "output_type": "stream",
          "name": "stdout",
          "text": [
            "torch.Size([1, 7, 768])\n"
          ]
        }
      ]
    },
    {
      "cell_type": "markdown",
      "source": [
        "- last_hidden_state[0][0] : 첫 번째 토큰인 `[CLS]`의 표현 벡터\n",
        "- last_hidden_state[0][1] : 두 번째 토큰인 `'i'`의 표현 벡터\n",
        "- last_hidden_state[0][2] : 세 번째 토큰인 `'love'`의 표현 벡터"
      ],
      "metadata": {
        "id": "hYoeJEfaLPKt"
      }
    },
    {
      "cell_type": "markdown",
      "source": [
        "`pooler_output`은 `[CLS]` 토큰의 표현을 나타내며, 선형 및 tanh 활성화 함수에 의해 계산"
      ],
      "metadata": {
        "id": "8TS7BN2MKwGy"
      }
    },
    {
      "cell_type": "code",
      "source": [
        "print(pooler_output.shape) # [batch_size, hidden_size]"
      ],
      "metadata": {
        "colab": {
          "base_uri": "https://localhost:8080/"
        },
        "id": "NsvvvVLKJSmn",
        "outputId": "38a6065a-6630-4ae7-e76f-2d943692a35c"
      },
      "execution_count": 19,
      "outputs": [
        {
          "output_type": "stream",
          "name": "stdout",
          "text": [
            "torch.Size([1, 768])\n"
          ]
        }
      ]
    },
    {
      "cell_type": "markdown",
      "source": [
        "- `[CLS]` 토큰의 표현은 문장 전체의 표현 보유하므로, 'I love Paris' 문장의 표현으로 `pooler_output` 사용 가능"
      ],
      "metadata": {
        "id": "1MhQ5SGHLlRh"
      }
    }
  ]
}